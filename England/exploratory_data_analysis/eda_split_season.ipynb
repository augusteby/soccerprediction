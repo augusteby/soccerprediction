{
 "cells": [
  {
   "cell_type": "markdown",
   "metadata": {},
   "source": [
    "# EDA: Split season"
   ]
  },
  {
   "cell_type": "code",
   "execution_count": 2,
   "metadata": {
    "collapsed": true
   },
   "outputs": [],
   "source": [
    "import pandas as pd\n",
    "import numpy as np \n",
    "import seaborn as sns\n",
    "import matplotlib.pyplot as plt\n",
    "import scipy.stats as st"
   ]
  },
  {
   "cell_type": "code",
   "execution_count": 15,
   "metadata": {
    "collapsed": false
   },
   "outputs": [],
   "source": [
    "data = pd.read_csv('../data/ML/E0_ML_n3_date.csv')\n",
    "data['Date']=pd.to_datetime(data['Date'])\n",
    "data.head()"
   ]
  },
  {
   "cell_type": "code",
   "execution_count": 30,
   "metadata": {
    "collapsed": true
   },
   "outputs": [],
   "source": [
    "ODDS_FILEPATH = '../data/ML/E0_home_win_odds.csv'\n",
    "data_odds = pd.read_csv(ODDS_FILEPATH)"
   ]
  },
  {
   "cell_type": "code",
   "execution_count": 10,
   "metadata": {
    "collapsed": false
   },
   "outputs": [
    {
     "name": "stdout",
     "output_type": "stream",
     "text": [
      "41\n",
      "15\n"
     ]
    }
   ],
   "source": [
    "data_0 = data[data['home_win']==0]\n",
    "data_1 = data[data['home_win']==1]\n",
    "features = data.drop(['id','Date','home_win'],1).columns.values\n",
    "\n",
    "best_feat ={} \n",
    "worst_feat ={}\n",
    "for feature in features:\n",
    "    group1 = data_0[feature]\n",
    "    group2 = data_1[feature]\n",
    "    stats,p_value=st.kruskal(group1,group2)\n",
    "    if p_value<0.01:\n",
    "        best_feat[feature]=p_value\n",
    "    else:\n",
    "        worst_feat[feature]=p_value\n",
    "\n",
    "print(len(best_feat))\n",
    "print(len(worst_feat))"
   ]
  },
  {
   "cell_type": "code",
   "execution_count": 23,
   "metadata": {
    "collapsed": false
   },
   "outputs": [
    {
     "name": "stdout",
     "output_type": "stream",
     "text": [
      "('diff_season_wages', 2.7201169807474926e-23)\n",
      "('diff_nb_goals_diff', 1.2985388216484946e-11)\n",
      "('a_season_wages', 1.7210649221095588e-11)\n",
      "('h_season_wages', 7.0440796124706071e-11)\n",
      "('diff_nb_defeats', 5.2703217765154178e-10)\n",
      "('diff_nb_points', 1.8365461030176566e-09)\n",
      "('capacity_home_stadium', 2.6104616799398929e-08)\n",
      "('diff_nb_victories', 1.5460295637888435e-07)\n",
      "('a_nb_goals_diff', 1.5040983192003147e-06)\n",
      "('h_nb_goals_diff', 2.3771137087521503e-06)\n",
      "('a_nb_defeats', 3.50085584662456e-05)\n",
      "('h_nb_points', 4.4619614913992122e-05)\n",
      "('h_nb_victories', 0.00011419692974934507)\n",
      "('h_nb_goals_scored', 0.00033273180394677651)\n",
      "('h_nb_points_home', 0.0031554745724446734)\n",
      "('h_diff_goals_home', 0.004339316578661153)\n",
      "('a_nb_defeats_away', 0.0049705400744598548)\n",
      "('h_mean_nb_goals_scored_home', 0.0058819525074810539)\n",
      "('h_last_n_games_points_home', 0.0060693719635523729)\n",
      "('a_diff_goals_away', 0.0068602409140050419)\n",
      "('a_last_n_games_defeats_away', 0.0072183652302253249)\n",
      "('h_nb_goals_scored_home', 0.0088563018807714302)\n"
     ]
    }
   ],
   "source": [
    "import operator\n",
    "sorted_best_feat = sorted(best_feat.items(), key=operator.itemgetter(1))\n",
    "for best in sorted_best_feat:\n",
    "    print(best)"
   ]
  },
  {
   "cell_type": "code",
   "execution_count": 24,
   "metadata": {
    "collapsed": false
   },
   "outputs": [
    {
     "name": "stdout",
     "output_type": "stream",
     "text": [
      "('a_nb_goals_conceded', 0.012064063327298993)\n",
      "('h_nb_victories_home', 0.014071356920327531)\n",
      "('h_last_n_games_victories_home', 0.025280297001821422)\n",
      "('a_nb_goals_conceded_away', 0.055319738499393513)\n",
      "('h_nb_games_home', 0.071788496170479388)\n",
      "('Week', 0.087448188713616273)\n",
      "('a_nb_games_away', 0.093999518083994399)\n",
      "('h_nb_games', 0.099121307647731222)\n",
      "('h_nb_defeats', 0.10296141927834866)\n",
      "('a_nb_games', 0.1041527037975372)\n",
      "('a_mean_nb_goals_conceded_away', 0.13101423461771713)\n",
      "('h_mean_nb_goals_conceded_home', 0.17395863094250236)\n",
      "('Month', 0.20921952643062416)\n",
      "('h_nb_defeats_home', 0.28680070406171948)\n",
      "('a_nb_draws', 0.30200820302854769)\n",
      "('a_nb_victories', 0.35459832299007388)\n",
      "('h_nb_draws', 0.40459531808512661)\n",
      "('h_last_n_games_defeats_home', 0.4830468469364162)\n",
      "('a_nb_goals_scored', 0.48459970818389919)\n",
      "('a_nb_draws_away', 0.49352407277425414)\n",
      "('a_nb_points', 0.49843492000835454)\n",
      "('h_nb_draws_home', 0.56122552019045258)\n",
      "('a_last_n_games_draws_away', 0.58414384264987673)\n",
      "('distance_km', 0.61283258734191781)\n",
      "('h_nb_goals_conceded_home', 0.64762706181100738)\n",
      "('a_mean_nb_goals_scored_away', 0.66336122584385571)\n",
      "('h_last_n_games_draws_home', 0.68480258731707755)\n",
      "('a_nb_goals_scored_away', 0.82748992287448253)\n",
      "('a_nb_points_away', 0.87938169693662349)\n",
      "('a_nb_victories_away', 0.89376415610320359)\n",
      "('h_nb_goals_conceded', 0.89604503281457881)\n",
      "('a_last_n_games_victories_away', 0.90803332133471382)\n",
      "('a_last_n_games_points_away', 0.91284561309704193)\n",
      "('diff_nb_draws', 0.99798398019862666)\n"
     ]
    }
   ],
   "source": [
    "sorted_worst_feat = sorted(worst_feat.items(), key=operator.itemgetter(1))\n",
    "for worst in sorted_worst_feat:\n",
    "    print worst"
   ]
  },
  {
   "cell_type": "code",
   "execution_count": 27,
   "metadata": {
    "collapsed": false
   },
   "outputs": [],
   "source": [
    "data_first_part = data[(data['Date'].dt.month >= 8)\n",
    "                        & (data['Date'].dt.month <= 12)]\n",
    "\n",
    "data_second_part = data[(data['Date'].dt.month >= 1)\n",
    "                        & (data['Date'].dt.month <= 5)]\n"
   ]
  },
  {
   "cell_type": "code",
   "execution_count": 34,
   "metadata": {
    "collapsed": true
   },
   "outputs": [],
   "source": [
    "def get_profit_multipliers(y, predictions, id_strings, home_win_odds):\n",
    "    \"\"\"\n",
    "    We define a profit multiplier as follow:\n",
    "    It is equal to 'decimal_odd -1'. If it is positive you\n",
    "    make (decimal_odd-1) time the money you bet,\n",
    "    otherwise it is equal to -1 and you've lost the money you bet\n",
    "\n",
    "    Parameters\n",
    "    ----------\n",
    "    y: numpy.ndarray\n",
    "        Real outcome: 1 means 'home team won' and 0 'home team lost or draw'\n",
    "    predictions: numpy.ndarray\n",
    "        Predicted outcome\n",
    "    id_strings: numpy.ndarray\n",
    "        List of ids in the same order of association as for the elements in\n",
    "        'y' and 'predictions'\n",
    "    home_win_odds: pandas.DataFrame\n",
    "        'Home win' odds associated with each game\n",
    "\n",
    "    Returns\n",
    "    -------\n",
    "    profits_multipliers: list\n",
    "        List that contains\n",
    "    \"\"\"\n",
    "    profits_multipliers = []\n",
    "    home_win_odds.index = home_win_odds['id']\n",
    "    for i in range(len(y)):\n",
    "        pred = predictions[i]\n",
    "        real = y[i]\n",
    "        id_str = id_strings[i]\n",
    "        home_win_odd = home_win_odds.loc[id_str]['BbAvH']\n",
    "\n",
    "        # If algo thinks home team will win\n",
    "        if pred == 1:\n",
    "            # If this is indeed true, we make money\n",
    "            if pred == real:\n",
    "                profit_m = home_win_odd - 1\n",
    "                profits_multipliers.append(profit_m)\n",
    "\n",
    "            # If the decision was wrong, we loose what we bet\n",
    "            else:\n",
    "                profit_m = -1\n",
    "                profits_multipliers.append(profit_m)\n",
    "\n",
    "        else:\n",
    "            profit_m = 0\n",
    "            profits_multipliers.append(profit_m)\n",
    "\n",
    "    return profits_multipliers\n"
   ]
  },
  {
   "cell_type": "code",
   "execution_count": 46,
   "metadata": {
    "collapsed": true
   },
   "outputs": [],
   "source": [
    "def get_earning_coeff(y, predictions, id_strings, home_win_odds):\n",
    "    sum_profit_multipliers = 0\n",
    "    home_win_odds.index = home_win_odds['id']\n",
    "    for i in range(len(y)):\n",
    "        pred = predictions[i]\n",
    "        real = y[i]\n",
    "        id_str = id_strings[i]\n",
    "        home_win_odd = home_win_odds.loc[id_str]['BbAvH']\n",
    "\n",
    "        # If algo thinks home team will win\n",
    "        if pred == 1:\n",
    "            # If this is indeed true, we make money\n",
    "            if pred == real:\n",
    "                sum_profit_multipliers += home_win_odd - 1\n",
    "\n",
    "            # If the decision was wrong, we loose what we bet\n",
    "            else:\n",
    "                sum_profit_multipliers -= 1\n",
    "\n",
    "    return sum_profit_multipliers"
   ]
  },
  {
   "cell_type": "code",
   "execution_count": 74,
   "metadata": {
    "collapsed": false
   },
   "outputs": [
    {
     "name": "stdout",
     "output_type": "stream",
     "text": [
      "Best score: 15.343223\n",
      "{'estimator__penalty': 'l2', 'estimator__C': 0.01}\n",
      "Optimal number of features : 1\n",
      "['diff_season_wages']\n",
      "\n",
      "8\n",
      "Area under the curve: 0.740494\n",
      "0.7\n",
      "242\n",
      "\n",
      "Best score: 28.698664\n",
      "{'estimator__penalty': 'l2', 'estimator__C': 0.01}\n",
      "Optimal number of features : 2\n",
      "['h_season_wages', 'diff_season_wages']\n",
      "\n",
      "9\n",
      "Area under the curve: 0.709227\n",
      "6.45\n",
      "494\n",
      "\n",
      "Best score: 42.457766\n",
      "{'estimator__penalty': 'l2', 'estimator__C': 0.01}\n",
      "Optimal number of features : 3\n",
      "['h_season_wages', 'diff_nb_goals_diff', 'diff_season_wages']\n",
      "\n",
      "10\n",
      "Area under the curve: 0.709119\n",
      "-2.31\n",
      "779\n",
      "\n",
      "Best score: 55.730452\n",
      "{'estimator__penalty': 'l2', 'estimator__C': 0.01}\n",
      "Optimal number of features : 4\n",
      "['h_season_wages', 'a_season_wages', 'diff_nb_defeats', 'diff_season_wages']\n",
      "\n",
      "11\n",
      "Area under the curve: 0.704777\n",
      "-11.91\n",
      "1083\n",
      "\n",
      "Best score: 68.788044\n",
      "{'estimator__penalty': 'l2', 'estimator__C': 0.001}\n",
      "Optimal number of features : 6\n",
      "['h_season_wages', 'a_season_wages', 'diff_nb_defeats', 'diff_nb_points', 'diff_nb_goals_diff', 'diff_season_wages']\n",
      "\n",
      "12\n",
      "Area under the curve: 0.707098\n",
      "-4.4\n",
      "1529\n",
      "\n"
     ]
    }
   ],
   "source": [
    "from sklearn.model_selection import cross_val_predict\n",
    "from sklearn.linear_model import LogisticRegression\n",
    "from sklearn.preprocessing import StandardScaler\n",
    "from sklearn.metrics import accuracy_score, confusion_matrix, roc_auc_score, make_scorer\n",
    "from sklearn.feature_selection import RFECV\n",
    "from sklearn.model_selection import GridSearchCV, RandomizedSearchCV\n",
    "\n",
    "params={'estimator__C': [10**i for i in range(-5, 3)],\n",
    "       'estimator__penalty':['l1','l2']}\n",
    "\n",
    "for i_month in range(8,13):\n",
    "    dfp_part1 = data_first_part[(data_first_part['Date'].dt.month >= 8)\n",
    "                        & (data_first_part['Date'].dt.month <= i_month)]\n",
    "    \n",
    "    y=dfp_part1['home_win'].values\n",
    "    id_str = dfp_part1['id'].values\n",
    "    dfp_part1=dfp_part1.drop(['Date','id','home_win'],1)\n",
    "    X=dfp_part1.values\n",
    "    standardizer = StandardScaler()\n",
    "    X = standardizer.fit_transform(X)\n",
    "    \n",
    "    \n",
    "    earning_coeff_score = make_scorer(get_earning_coeff, id_strings=id_str,\n",
    "                                      home_win_odds=data_odds,\n",
    "                                      greater_is_better=True)\n",
    "\n",
    "    classifier = LogisticRegression()\n",
    "    selector = RFECV(classifier, step=1, cv=5, n_jobs=1)\n",
    "\n",
    "    grid_search = GridSearchCV(selector, param_grid=params,\n",
    "                                   scoring=earning_coeff_score, cv=5,\n",
    "                                   verbose=0, n_jobs=-1)\n",
    "    grid_search.fit(X, y)\n",
    "\n",
    "    print('Best score: %f' % grid_search.best_score_)\n",
    "    print(grid_search.best_params_)\n",
    "    print(\"Optimal number of features : %d\" %\n",
    "              grid_search.best_estimator_.n_features_)\n",
    "    best_features = [features[i]\n",
    "                         for i in range(len(grid_search.best_estimator_.ranking_)) if grid_search.best_estimator_.ranking_[i] == 1]\n",
    "    print(best_features)\n",
    "    print('')\n",
    "    \n",
    "    X_sub=dfp_part1[best_features].values\n",
    "    stdardizer = StandardScaler()\n",
    "    X_sub = stdardizer.fit_transform(X_sub)\n",
    "    classif=LogisticRegression(C=grid_search.best_params_['estimator__C'])\n",
    "    proba = cross_val_predict(classif, X_sub, y,\n",
    "                              method='predict_proba',\n",
    "                              cv=10, n_jobs=-1)\n",
    "    proba_home_win = [p[1] for p in proba]\n",
    "    predictions = [1 if p[1] > 0.5 else 0 for p in proba]\n",
    "    auc = roc_auc_score(y, proba_home_win)\n",
    "    fpr, tpr, thresholds = roc_curve(y, proba_home_win, pos_label=1)\n",
    "    \n",
    "    profits_multipliers = get_profit_multipliers(y, predictions,\n",
    "                                                 id_str, data_odds)\n",
    "    \n",
    "    print(i_month)\n",
    "    print('Area under the curve: %f' % auc)\n",
    "    print(np.sum(profits_multipliers))\n",
    "    print(len(profits_multipliers))\n",
    "    print('')\n",
    "                                     "
   ]
  },
  {
   "cell_type": "code",
   "execution_count": 73,
   "metadata": {
    "collapsed": false
   },
   "outputs": [
    {
     "name": "stdout",
     "output_type": "stream",
     "text": [
      "Best score: 18.217389\n",
      "{'estimator__C': 0.1}\n",
      "Optimal number of features : 1\n",
      "['diff_season_wages']\n",
      "\n",
      "1\n",
      "Area under the curve: 0.718637\n",
      "-0.16\n",
      "314\n",
      "\n",
      "Best score: 33.772791\n",
      "{'estimator__C': 0.1}\n",
      "Optimal number of features : 4\n",
      "['h_nb_goals_scored_home', 'a_season_wages', 'diff_nb_goals_diff', 'diff_season_wages']\n",
      "\n",
      "2\n",
      "Area under the curve: 0.715760\n",
      "12.7\n",
      "609\n",
      "\n",
      "Best score: 57.143775\n",
      "{'estimator__C': 0.01}\n",
      "Optimal number of features : 56\n",
      "['h_nb_victories', 'h_nb_draws', 'h_nb_defeats', 'h_nb_points', 'h_nb_goals_scored', 'h_nb_goals_conceded', 'h_nb_goals_diff', 'h_nb_games', 'h_nb_games_home', 'h_nb_victories_home', 'h_nb_draws_home', 'h_nb_defeats_home', 'h_nb_points_home', 'h_nb_goals_scored_home', 'h_nb_goals_conceded_home', 'h_diff_goals_home', 'h_last_n_games_points_home', 'h_last_n_games_victories_home', 'h_last_n_games_draws_home', 'h_last_n_games_defeats_home', 'h_mean_nb_goals_scored_home', 'h_mean_nb_goals_conceded_home', 'h_season_wages', 'a_nb_victories', 'a_nb_draws', 'a_nb_defeats', 'a_nb_points', 'a_nb_goals_scored', 'a_nb_goals_conceded', 'a_nb_goals_diff', 'a_nb_games', 'a_nb_games_away', 'a_nb_victories_away', 'a_nb_draws_away', 'a_nb_defeats_away', 'a_nb_points_away', 'a_nb_goals_scored_away', 'a_nb_goals_conceded_away', 'a_diff_goals_away', 'a_last_n_games_points_away', 'a_last_n_games_victories_away', 'a_last_n_games_draws_away', 'a_last_n_games_defeats_away', 'a_mean_nb_goals_scored_away', 'a_mean_nb_goals_conceded_away', 'a_season_wages', 'diff_nb_victories', 'diff_nb_draws', 'diff_nb_defeats', 'diff_nb_points', 'diff_nb_goals_diff', 'diff_season_wages', 'Month', 'Week', 'distance_km', 'capacity_home_stadium']\n",
      "\n",
      "3\n",
      "Area under the curve: 0.696105\n",
      "11.12\n",
      "898\n",
      "\n",
      "Best score: 70.695836\n",
      "{'estimator__C': 0.01}\n",
      "Optimal number of features : 1\n",
      "['diff_nb_goals_diff']\n",
      "\n",
      "4\n",
      "Area under the curve: 0.710853\n",
      "19.3\n",
      "1268\n",
      "\n",
      "Best score: 78.265381\n",
      "{'estimator__C': 0.01}\n",
      "Optimal number of features : 1\n",
      "['diff_nb_goals_diff']\n",
      "\n",
      "5\n",
      "Area under the curve: 0.707177\n",
      "10.12\n",
      "1511\n",
      "\n"
     ]
    }
   ],
   "source": [
    "params={'estimator__C': [10**i for i in range(-5, 3)],\n",
    "       'estimator__penalty':['l1','l2']}\n",
    "\n",
    "for i_month in range(1,6):\n",
    "    dsp_part1 = data_second_part[(data_second_part['Date'].dt.month >= 1)\n",
    "                        & (data_second_part['Date'].dt.month <= i_month)]\n",
    "    \n",
    "    y=dsp_part1['home_win'].values\n",
    "    id_str = dsp_part1['id'].values\n",
    "    dsp_part1=dsp_part1.drop(['Date','id','home_win'],1)\n",
    "    X=dsp_part1.values\n",
    "    standardizer = StandardScaler()\n",
    "    X = standardizer.fit_transform(X)\n",
    "    \n",
    "    \n",
    "    earning_coeff_score = make_scorer(get_earning_coeff, id_strings=id_str,\n",
    "                                      home_win_odds=data_odds,\n",
    "                                      greater_is_better=True)\n",
    "\n",
    "    classifier = LogisticRegression()\n",
    "    selector = RFECV(classifier, step=1, cv=5, n_jobs=1)\n",
    "\n",
    "    grid_search = GridSearchCV(selector, param_grid=params,\n",
    "                                   scoring=earning_coeff_score, cv=5,\n",
    "                                   verbose=0, n_jobs=-1)\n",
    "    grid_search.fit(X, y)\n",
    "\n",
    "    print('Best score: %f' % grid_search.best_score_)\n",
    "    print(grid_search.best_params_)\n",
    "    print(\"Optimal number of features : %d\" %\n",
    "              grid_search.best_estimator_.n_features_)\n",
    "    best_features = [features[i]\n",
    "                         for i in range(len(grid_search.best_estimator_.ranking_)) if grid_search.best_estimator_.ranking_[i] == 1]\n",
    "    print(best_features)\n",
    "    print('')\n",
    "    \n",
    "    X_sub=dsp_part1[best_features].values\n",
    "    stdardizer = StandardScaler()\n",
    "    X_sub = stdardizer.fit_transform(X_sub)\n",
    "    classif=LogisticRegression(C=grid_search.best_params_['estimator__C'])\n",
    "    proba = cross_val_predict(classif, X_sub, y,\n",
    "                              method='predict_proba',\n",
    "                              cv=10, n_jobs=-1)\n",
    "    proba_home_win = [p[1] for p in proba]\n",
    "    predictions = [1 if p[1] > 0.5 else 0 for p in proba]\n",
    "    auc = roc_auc_score(y, proba_home_win)\n",
    "    fpr, tpr, thresholds = roc_curve(y, proba_home_win, pos_label=1)\n",
    "    \n",
    "    profits_multipliers = get_profit_multipliers(y, predictions,\n",
    "                                                 id_str, data_odds)\n",
    "    \n",
    "    print(i_month)\n",
    "    print('Area under the curve: %f' % auc)\n",
    "    print(np.sum(profits_multipliers))\n",
    "    print(len(profits_multipliers))\n",
    "    print('')\n",
    "                                     "
   ]
  },
  {
   "cell_type": "code",
   "execution_count": null,
   "metadata": {
    "collapsed": true
   },
   "outputs": [],
   "source": []
  }
 ],
 "metadata": {
  "kernelspec": {
   "display_name": "Python 2",
   "language": "python",
   "name": "python2"
  },
  "language_info": {
   "codemirror_mode": {
    "name": "ipython",
    "version": 2
   },
   "file_extension": ".py",
   "mimetype": "text/x-python",
   "name": "python",
   "nbconvert_exporter": "python",
   "pygments_lexer": "ipython2",
   "version": "2.7.10"
  }
 },
 "nbformat": 4,
 "nbformat_minor": 2
}
