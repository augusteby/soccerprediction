{
 "cells": [
  {
   "cell_type": "markdown",
   "metadata": {
    "deletable": true,
    "editable": true
   },
   "source": [
    "# Soccer Game Predicition: Exploratory Data Analysis\n",
    "\n",
    "The purpose of this file is to find insights that will allow us to create a predictive model for soccer game results that maximizes our ROI on online betting."
   ]
  },
  {
   "cell_type": "code",
   "execution_count": 1,
   "metadata": {
    "collapsed": true,
    "deletable": true,
    "editable": true
   },
   "outputs": [],
   "source": [
    "# import necessary modules\n",
    "import numpy as np\n",
    "import pandas as pd\n",
    "import matplotlib.pyplot as plt"
   ]
  },
  {
   "cell_type": "code",
   "execution_count": 2,
   "metadata": {
    "collapsed": false,
    "deletable": true,
    "editable": true
   },
   "outputs": [
    {
     "data": {
      "text/html": [
       "<div>\n",
       "<table border=\"1\" class=\"dataframe\">\n",
       "  <thead>\n",
       "    <tr style=\"text-align: right;\">\n",
       "      <th></th>\n",
       "      <th>Div</th>\n",
       "      <th>Date</th>\n",
       "      <th>HomeTeam</th>\n",
       "      <th>AwayTeam</th>\n",
       "      <th>FTHG</th>\n",
       "      <th>FTAG</th>\n",
       "      <th>FTR</th>\n",
       "      <th>HTHG</th>\n",
       "      <th>HTAG</th>\n",
       "      <th>HTR</th>\n",
       "      <th>...</th>\n",
       "      <th>BbAv&lt;2.5</th>\n",
       "      <th>BbAH</th>\n",
       "      <th>BbAHh</th>\n",
       "      <th>BbMxAHH</th>\n",
       "      <th>BbAvAHH</th>\n",
       "      <th>BbMxAHA</th>\n",
       "      <th>BbAvAHA</th>\n",
       "      <th>PSCH</th>\n",
       "      <th>PSCD</th>\n",
       "      <th>PSCA</th>\n",
       "    </tr>\n",
       "  </thead>\n",
       "  <tbody>\n",
       "    <tr>\n",
       "      <th>0</th>\n",
       "      <td>E0</td>\n",
       "      <td>08/08/15</td>\n",
       "      <td>Bournemouth</td>\n",
       "      <td>Aston Villa</td>\n",
       "      <td>0</td>\n",
       "      <td>1</td>\n",
       "      <td>A</td>\n",
       "      <td>0</td>\n",
       "      <td>0</td>\n",
       "      <td>D</td>\n",
       "      <td>...</td>\n",
       "      <td>1.79</td>\n",
       "      <td>26</td>\n",
       "      <td>-0.5</td>\n",
       "      <td>1.98</td>\n",
       "      <td>1.93</td>\n",
       "      <td>1.99</td>\n",
       "      <td>1.92</td>\n",
       "      <td>1.82</td>\n",
       "      <td>3.88</td>\n",
       "      <td>4.70</td>\n",
       "    </tr>\n",
       "    <tr>\n",
       "      <th>1</th>\n",
       "      <td>E0</td>\n",
       "      <td>08/08/15</td>\n",
       "      <td>Chelsea</td>\n",
       "      <td>Swansea</td>\n",
       "      <td>2</td>\n",
       "      <td>2</td>\n",
       "      <td>D</td>\n",
       "      <td>2</td>\n",
       "      <td>1</td>\n",
       "      <td>H</td>\n",
       "      <td>...</td>\n",
       "      <td>1.99</td>\n",
       "      <td>27</td>\n",
       "      <td>-1.5</td>\n",
       "      <td>2.24</td>\n",
       "      <td>2.16</td>\n",
       "      <td>1.80</td>\n",
       "      <td>1.73</td>\n",
       "      <td>1.37</td>\n",
       "      <td>5.04</td>\n",
       "      <td>10.88</td>\n",
       "    </tr>\n",
       "    <tr>\n",
       "      <th>2</th>\n",
       "      <td>E0</td>\n",
       "      <td>08/08/15</td>\n",
       "      <td>Everton</td>\n",
       "      <td>Watford</td>\n",
       "      <td>2</td>\n",
       "      <td>2</td>\n",
       "      <td>D</td>\n",
       "      <td>0</td>\n",
       "      <td>1</td>\n",
       "      <td>A</td>\n",
       "      <td>...</td>\n",
       "      <td>1.96</td>\n",
       "      <td>26</td>\n",
       "      <td>-1.0</td>\n",
       "      <td>2.28</td>\n",
       "      <td>2.18</td>\n",
       "      <td>1.76</td>\n",
       "      <td>1.71</td>\n",
       "      <td>1.75</td>\n",
       "      <td>3.76</td>\n",
       "      <td>5.44</td>\n",
       "    </tr>\n",
       "    <tr>\n",
       "      <th>3</th>\n",
       "      <td>E0</td>\n",
       "      <td>08/08/15</td>\n",
       "      <td>Leicester</td>\n",
       "      <td>Sunderland</td>\n",
       "      <td>4</td>\n",
       "      <td>2</td>\n",
       "      <td>H</td>\n",
       "      <td>3</td>\n",
       "      <td>0</td>\n",
       "      <td>H</td>\n",
       "      <td>...</td>\n",
       "      <td>1.67</td>\n",
       "      <td>26</td>\n",
       "      <td>-0.5</td>\n",
       "      <td>2.00</td>\n",
       "      <td>1.95</td>\n",
       "      <td>1.96</td>\n",
       "      <td>1.90</td>\n",
       "      <td>1.79</td>\n",
       "      <td>3.74</td>\n",
       "      <td>5.10</td>\n",
       "    </tr>\n",
       "    <tr>\n",
       "      <th>4</th>\n",
       "      <td>E0</td>\n",
       "      <td>08/08/15</td>\n",
       "      <td>Man United</td>\n",
       "      <td>Tottenham</td>\n",
       "      <td>1</td>\n",
       "      <td>0</td>\n",
       "      <td>H</td>\n",
       "      <td>1</td>\n",
       "      <td>0</td>\n",
       "      <td>H</td>\n",
       "      <td>...</td>\n",
       "      <td>2.01</td>\n",
       "      <td>26</td>\n",
       "      <td>-1.0</td>\n",
       "      <td>2.20</td>\n",
       "      <td>2.09</td>\n",
       "      <td>1.82</td>\n",
       "      <td>1.78</td>\n",
       "      <td>1.64</td>\n",
       "      <td>4.07</td>\n",
       "      <td>6.04</td>\n",
       "    </tr>\n",
       "  </tbody>\n",
       "</table>\n",
       "<p>5 rows × 65 columns</p>\n",
       "</div>"
      ],
      "text/plain": [
       "  Div      Date     HomeTeam     AwayTeam  FTHG  FTAG FTR  HTHG  HTAG HTR  \\\n",
       "0  E0  08/08/15  Bournemouth  Aston Villa     0     1   A     0     0   D   \n",
       "1  E0  08/08/15      Chelsea      Swansea     2     2   D     2     1   H   \n",
       "2  E0  08/08/15      Everton      Watford     2     2   D     0     1   A   \n",
       "3  E0  08/08/15    Leicester   Sunderland     4     2   H     3     0   H   \n",
       "4  E0  08/08/15   Man United    Tottenham     1     0   H     1     0   H   \n",
       "\n",
       "   ...   BbAv<2.5  BbAH  BbAHh  BbMxAHH  BbAvAHH  BbMxAHA  BbAvAHA  PSCH  \\\n",
       "0  ...       1.79    26   -0.5     1.98     1.93     1.99     1.92  1.82   \n",
       "1  ...       1.99    27   -1.5     2.24     2.16     1.80     1.73  1.37   \n",
       "2  ...       1.96    26   -1.0     2.28     2.18     1.76     1.71  1.75   \n",
       "3  ...       1.67    26   -0.5     2.00     1.95     1.96     1.90  1.79   \n",
       "4  ...       2.01    26   -1.0     2.20     2.09     1.82     1.78  1.64   \n",
       "\n",
       "   PSCD   PSCA  \n",
       "0  3.88   4.70  \n",
       "1  5.04  10.88  \n",
       "2  3.76   5.44  \n",
       "3  3.74   5.10  \n",
       "4  4.07   6.04  \n",
       "\n",
       "[5 rows x 65 columns]"
      ]
     },
     "execution_count": 2,
     "metadata": {},
     "output_type": "execute_result"
    }
   ],
   "source": [
    "# import the data\n",
    "data = pd.read_csv('../data/Games/raw/E0_2015_2016.csv')\n",
    "data[:5]"
   ]
  },
  {
   "cell_type": "markdown",
   "metadata": {
    "deletable": true,
    "editable": true
   },
   "source": [
    "Features that we can craft from the data:\n",
    "* Number of victories at home for the home team in current season [OK]\n",
    "* Number of games at home for the home team in current season [OK]\n",
    "* Number of points of the home team in current season [OK]\n",
    "* Number of victories or draws outside for the away team in current season [OK]\n",
    "* Number of games outside for the away team in current season [OK]\n",
    "* Number of points of the away team in current season [OK]\n",
    "* Total number of games played in the season for home team [OK]\n",
    "* Total number of games played in the season for away team [OK]\n",
    "* Number of points at home for home team from last n games at home [OK]\n",
    "* Number of points away for away team from last n games away [OK]\n",
    "* Number of goals scored at home for home team in current season [OK]\n",
    "* Mean nb of goals scored at home for home team in current season [OK]\n",
    "* Number of goals conceded at home for home team in current season [OK]\n",
    "* Mean nb of goals conceded at home for home team in current season [OK]\n",
    "* Number of goals scored away for away team in current season [OK]\n",
    "* Mean nb of goals scored away for away team  in current season [OK]\n",
    "* Number of goals conceded away for away team in current season [OK]\n",
    "* Mean nb of goals conceded away for away team  in current season [OK]\n",
    "\n",
    "* Mean difference of points with away team over last 3 games at home for home team\n",
    "* Mean difference of points with home team over last 3 games away for away team\n",
    "* Number of victories at home for the home team in last season\n",
    "* Number of defeats or draws at home for the home team in last season\n",
    "* Number of victories or draws outside for the away team in last season\n",
    "* Number of defeats outside for the away team in last season\n",
    "* Number of mean scored goals at home for the home team during last 5 games at home\n",
    "* Number of mean conceaded goals at home for the home team during last 5 games at home\n",
    "* Number of mean scored goals outside for the away team during the last 5 games outside \n",
    "* Number of mean conceaded goals outside for the away team during the last 5 games outside \n",
    "* Current position of home team\n",
    "* Current position of away team\n",
    "* Mean position of home team during last 5 games\n",
    "* Mean position of away team during last 5 games\n",
    "* Mean position of home team during last 3 seasons in the league\n",
    "* Mean position of away team during last 3 seasons in the league"
   ]
  },
  {
   "cell_type": "markdown",
   "metadata": {
    "deletable": true,
    "editable": true
   },
   "source": [
    "## What is the profile of the winner? \n",
    "\n",
    "Here, we try to assess if there are common characteristics for the winning teams."
   ]
  },
  {
   "cell_type": "markdown",
   "metadata": {
    "deletable": true,
    "editable": true
   },
   "source": [
    "### Is the home team more likely to win?"
   ]
  },
  {
   "cell_type": "code",
   "execution_count": 3,
   "metadata": {
    "collapsed": false,
    "deletable": true,
    "editable": true
   },
   "outputs": [
    {
     "data": {
      "text/html": [
       "<div>\n",
       "<table border=\"1\" class=\"dataframe\">\n",
       "  <thead>\n",
       "    <tr style=\"text-align: right;\">\n",
       "      <th>col_0</th>\n",
       "      <th>norm_count</th>\n",
       "    </tr>\n",
       "    <tr>\n",
       "      <th>FTR</th>\n",
       "      <th></th>\n",
       "    </tr>\n",
       "  </thead>\n",
       "  <tbody>\n",
       "    <tr>\n",
       "      <th>A</th>\n",
       "      <td>0.305263</td>\n",
       "    </tr>\n",
       "    <tr>\n",
       "      <th>D</th>\n",
       "      <td>0.281579</td>\n",
       "    </tr>\n",
       "    <tr>\n",
       "      <th>H</th>\n",
       "      <td>0.413158</td>\n",
       "    </tr>\n",
       "  </tbody>\n",
       "</table>\n",
       "</div>"
      ],
      "text/plain": [
       "col_0  norm_count\n",
       "FTR              \n",
       "A        0.305263\n",
       "D        0.281579\n",
       "H        0.413158"
      ]
     },
     "execution_count": 3,
     "metadata": {},
     "output_type": "execute_result"
    }
   ],
   "source": [
    "pd.crosstab(index=data['FTR'],columns='norm_count',normalize=True)"
   ]
  },
  {
   "cell_type": "markdown",
   "metadata": {
    "deletable": true,
    "editable": true
   },
   "source": [
    "## What features can we craft?\n",
    "\n",
    "* Percentage of home victory for the last 5 games\n",
    "* Number of goals scored at home during current season\n",
    "* Number of goals scored at home during the last 5 games of the season\n",
    "* "
   ]
  },
  {
   "cell_type": "code",
   "execution_count": 4,
   "metadata": {
    "collapsed": false,
    "deletable": true,
    "editable": true
   },
   "outputs": [
    {
     "data": {
      "text/plain": [
       "Index(['Div', 'Date', 'HomeTeam', 'AwayTeam', 'FTHG', 'FTAG', 'FTR', 'HTHG',\n",
       "       'HTAG', 'HTR', 'Referee', 'HS', 'AS', 'HST', 'AST', 'HF', 'AF', 'HC',\n",
       "       'AC', 'HY', 'AY', 'HR', 'AR', 'B365H', 'B365D', 'B365A', 'BWH', 'BWD',\n",
       "       'BWA', 'IWH', 'IWD', 'IWA', 'LBH', 'LBD', 'LBA', 'PSH', 'PSD', 'PSA',\n",
       "       'WHH', 'WHD', 'WHA', 'VCH', 'VCD', 'VCA', 'Bb1X2', 'BbMxH', 'BbAvH',\n",
       "       'BbMxD', 'BbAvD', 'BbMxA', 'BbAvA', 'BbOU', 'BbMx>2.5', 'BbAv>2.5',\n",
       "       'BbMx<2.5', 'BbAv<2.5', 'BbAH', 'BbAHh', 'BbMxAHH', 'BbAvAHH',\n",
       "       'BbMxAHA', 'BbAvAHA', 'PSCH', 'PSCD', 'PSCA'],\n",
       "      dtype='object')"
      ]
     },
     "execution_count": 4,
     "metadata": {},
     "output_type": "execute_result"
    }
   ],
   "source": [
    "data.columns"
   ]
  },
  {
   "cell_type": "code",
   "execution_count": 5,
   "metadata": {
    "collapsed": false,
    "deletable": true,
    "editable": true
   },
   "outputs": [
    {
     "data": {
      "text/plain": [
       "65"
      ]
     },
     "execution_count": 5,
     "metadata": {},
     "output_type": "execute_result"
    }
   ],
   "source": [
    "len(data.columns)"
   ]
  },
  {
   "cell_type": "code",
   "execution_count": null,
   "metadata": {
    "collapsed": true,
    "deletable": true,
    "editable": true
   },
   "outputs": [],
   "source": []
  }
 ],
 "metadata": {
  "kernelspec": {
   "display_name": "Python 2",
   "language": "python",
   "name": "python2"
  },
  "language_info": {
   "codemirror_mode": {
    "name": "ipython",
    "version": 2
   },
   "file_extension": ".py",
   "mimetype": "text/x-python",
   "name": "python",
   "nbconvert_exporter": "python",
   "pygments_lexer": "ipython2",
   "version": "2.7.10"
  }
 },
 "nbformat": 4,
 "nbformat_minor": 2
}
