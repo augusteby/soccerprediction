{
 "cells": [
  {
   "cell_type": "markdown",
   "metadata": {},
   "source": [
    "# Feature extraction with RBM"
   ]
  },
  {
   "cell_type": "code",
   "execution_count": 1,
   "metadata": {
    "collapsed": true
   },
   "outputs": [],
   "source": [
    "import pandas as pd\n",
    "import numpy as np\n",
    "import matplotlib.pyplot as plt\n",
    "import seaborn as sns"
   ]
  },
  {
   "cell_type": "code",
   "execution_count": 2,
   "metadata": {
    "collapsed": false
   },
   "outputs": [
    {
     "data": {
      "text/html": [
       "<div>\n",
       "<style>\n",
       "    .dataframe thead tr:only-child th {\n",
       "        text-align: right;\n",
       "    }\n",
       "\n",
       "    .dataframe thead th {\n",
       "        text-align: left;\n",
       "    }\n",
       "\n",
       "    .dataframe tbody tr th {\n",
       "        vertical-align: top;\n",
       "    }\n",
       "</style>\n",
       "<table border=\"1\" class=\"dataframe\">\n",
       "  <thead>\n",
       "    <tr style=\"text-align: right;\">\n",
       "      <th></th>\n",
       "      <th>h_nb_victories</th>\n",
       "      <th>h_nb_draws</th>\n",
       "      <th>h_nb_defeats</th>\n",
       "      <th>h_nb_points</th>\n",
       "      <th>h_nb_goals_scored</th>\n",
       "      <th>h_nb_goals_conceded</th>\n",
       "      <th>h_nb_goals_diff</th>\n",
       "      <th>h_nb_games</th>\n",
       "      <th>h_nb_games_home</th>\n",
       "      <th>h_nb_victories_home</th>\n",
       "      <th>...</th>\n",
       "      <th>diff_nb_defeats</th>\n",
       "      <th>diff_nb_points</th>\n",
       "      <th>diff_nb_goals_diff</th>\n",
       "      <th>diff_season_wages</th>\n",
       "      <th>Month</th>\n",
       "      <th>Week</th>\n",
       "      <th>distance_km</th>\n",
       "      <th>capacity_home_stadium</th>\n",
       "      <th>home_win</th>\n",
       "      <th>id</th>\n",
       "    </tr>\n",
       "  </thead>\n",
       "  <tbody>\n",
       "    <tr>\n",
       "      <th>0</th>\n",
       "      <td>0.0</td>\n",
       "      <td>0.0</td>\n",
       "      <td>0.0</td>\n",
       "      <td>0.0</td>\n",
       "      <td>0.0</td>\n",
       "      <td>0.0</td>\n",
       "      <td>0.0</td>\n",
       "      <td>0.0</td>\n",
       "      <td>0.0</td>\n",
       "      <td>0.0</td>\n",
       "      <td>...</td>\n",
       "      <td>0.0</td>\n",
       "      <td>0.0</td>\n",
       "      <td>0.0</td>\n",
       "      <td>41.0</td>\n",
       "      <td>8</td>\n",
       "      <td>33</td>\n",
       "      <td>7839.955337</td>\n",
       "      <td>42785.0</td>\n",
       "      <td>0</td>\n",
       "      <td>E0_2009_2010_0</td>\n",
       "    </tr>\n",
       "    <tr>\n",
       "      <th>1</th>\n",
       "      <td>0.0</td>\n",
       "      <td>0.0</td>\n",
       "      <td>0.0</td>\n",
       "      <td>0.0</td>\n",
       "      <td>0.0</td>\n",
       "      <td>0.0</td>\n",
       "      <td>0.0</td>\n",
       "      <td>0.0</td>\n",
       "      <td>0.0</td>\n",
       "      <td>0.0</td>\n",
       "      <td>...</td>\n",
       "      <td>0.0</td>\n",
       "      <td>0.0</td>\n",
       "      <td>0.0</td>\n",
       "      <td>-85.5</td>\n",
       "      <td>8</td>\n",
       "      <td>33</td>\n",
       "      <td>2384.244176</td>\n",
       "      <td>31154.0</td>\n",
       "      <td>0</td>\n",
       "      <td>E0_2009_2010_1</td>\n",
       "    </tr>\n",
       "    <tr>\n",
       "      <th>2</th>\n",
       "      <td>0.0</td>\n",
       "      <td>0.0</td>\n",
       "      <td>0.0</td>\n",
       "      <td>0.0</td>\n",
       "      <td>0.0</td>\n",
       "      <td>0.0</td>\n",
       "      <td>0.0</td>\n",
       "      <td>0.0</td>\n",
       "      <td>0.0</td>\n",
       "      <td>0.0</td>\n",
       "      <td>...</td>\n",
       "      <td>0.0</td>\n",
       "      <td>0.0</td>\n",
       "      <td>0.0</td>\n",
       "      <td>-8.1</td>\n",
       "      <td>8</td>\n",
       "      <td>33</td>\n",
       "      <td>8738.109400</td>\n",
       "      <td>28100.0</td>\n",
       "      <td>0</td>\n",
       "      <td>E0_2009_2010_2</td>\n",
       "    </tr>\n",
       "    <tr>\n",
       "      <th>3</th>\n",
       "      <td>0.0</td>\n",
       "      <td>0.0</td>\n",
       "      <td>0.0</td>\n",
       "      <td>0.0</td>\n",
       "      <td>0.0</td>\n",
       "      <td>0.0</td>\n",
       "      <td>0.0</td>\n",
       "      <td>0.0</td>\n",
       "      <td>0.0</td>\n",
       "      <td>0.0</td>\n",
       "      <td>...</td>\n",
       "      <td>0.0</td>\n",
       "      <td>0.0</td>\n",
       "      <td>0.0</td>\n",
       "      <td>136.4</td>\n",
       "      <td>8</td>\n",
       "      <td>33</td>\n",
       "      <td>14384.656594</td>\n",
       "      <td>42449.0</td>\n",
       "      <td>1</td>\n",
       "      <td>E0_2009_2010_3</td>\n",
       "    </tr>\n",
       "    <tr>\n",
       "      <th>4</th>\n",
       "      <td>0.0</td>\n",
       "      <td>0.0</td>\n",
       "      <td>0.0</td>\n",
       "      <td>0.0</td>\n",
       "      <td>0.0</td>\n",
       "      <td>0.0</td>\n",
       "      <td>0.0</td>\n",
       "      <td>0.0</td>\n",
       "      <td>0.0</td>\n",
       "      <td>0.0</td>\n",
       "      <td>...</td>\n",
       "      <td>0.0</td>\n",
       "      <td>0.0</td>\n",
       "      <td>0.0</td>\n",
       "      <td>-56.3</td>\n",
       "      <td>8</td>\n",
       "      <td>33</td>\n",
       "      <td>8491.070855</td>\n",
       "      <td>40157.0</td>\n",
       "      <td>0</td>\n",
       "      <td>E0_2009_2010_4</td>\n",
       "    </tr>\n",
       "  </tbody>\n",
       "</table>\n",
       "<p>5 rows × 58 columns</p>\n",
       "</div>"
      ],
      "text/plain": [
       "   h_nb_victories  h_nb_draws  h_nb_defeats  h_nb_points  h_nb_goals_scored  \\\n",
       "0             0.0         0.0           0.0          0.0                0.0   \n",
       "1             0.0         0.0           0.0          0.0                0.0   \n",
       "2             0.0         0.0           0.0          0.0                0.0   \n",
       "3             0.0         0.0           0.0          0.0                0.0   \n",
       "4             0.0         0.0           0.0          0.0                0.0   \n",
       "\n",
       "   h_nb_goals_conceded  h_nb_goals_diff  h_nb_games  h_nb_games_home  \\\n",
       "0                  0.0              0.0         0.0              0.0   \n",
       "1                  0.0              0.0         0.0              0.0   \n",
       "2                  0.0              0.0         0.0              0.0   \n",
       "3                  0.0              0.0         0.0              0.0   \n",
       "4                  0.0              0.0         0.0              0.0   \n",
       "\n",
       "   h_nb_victories_home       ...        diff_nb_defeats  diff_nb_points  \\\n",
       "0                  0.0       ...                    0.0             0.0   \n",
       "1                  0.0       ...                    0.0             0.0   \n",
       "2                  0.0       ...                    0.0             0.0   \n",
       "3                  0.0       ...                    0.0             0.0   \n",
       "4                  0.0       ...                    0.0             0.0   \n",
       "\n",
       "   diff_nb_goals_diff  diff_season_wages  Month  Week   distance_km  \\\n",
       "0                 0.0               41.0      8    33   7839.955337   \n",
       "1                 0.0              -85.5      8    33   2384.244176   \n",
       "2                 0.0               -8.1      8    33   8738.109400   \n",
       "3                 0.0              136.4      8    33  14384.656594   \n",
       "4                 0.0              -56.3      8    33   8491.070855   \n",
       "\n",
       "   capacity_home_stadium  home_win              id  \n",
       "0                42785.0         0  E0_2009_2010_0  \n",
       "1                31154.0         0  E0_2009_2010_1  \n",
       "2                28100.0         0  E0_2009_2010_2  \n",
       "3                42449.0         1  E0_2009_2010_3  \n",
       "4                40157.0         0  E0_2009_2010_4  \n",
       "\n",
       "[5 rows x 58 columns]"
      ]
     },
     "execution_count": 2,
     "metadata": {},
     "output_type": "execute_result"
    }
   ],
   "source": [
    "data = pd.read_csv('../data/ML/E0_ML_n3_part1.csv')\n",
    "data.head()"
   ]
  },
  {
   "cell_type": "code",
   "execution_count": 3,
   "metadata": {
    "collapsed": true
   },
   "outputs": [],
   "source": [
    "LABEL = 'home_win'\n",
    "y=data[LABEL].values\n",
    "X=data.drop([LABEL,'id','Month','Week'],1).values\n",
    "features=data.drop([LABEL,'id','Month','Week'],1).columns.values"
   ]
  },
  {
   "cell_type": "code",
   "execution_count": 9,
   "metadata": {
    "collapsed": false
   },
   "outputs": [
    {
     "name": "stdout",
     "output_type": "stream",
     "text": [
      "[-0.37850279 -0.36256577 -0.36857289 -0.36924064 -0.36728588 -0.36937077\n",
      " -0.37403561 -0.3672552  -0.36868193 -0.36488134 -0.36549952 -0.36589695\n",
      " -0.36996067 -0.37670666 -0.36327156 -0.37639226 -0.36998755 -0.3598193\n",
      " -0.37192746 -0.36867492 -0.36933267 -0.36048763 -0.3743176  -0.36726407\n",
      " -0.37492855]\n",
      "[-0.84       -1.22       -1.13333333 -0.84111111 -1.135      -0.8\n",
      " -0.94222222  0.32333333  0.95       -0.71       -1.3        -0.76       -0.51\n",
      " -1.41666667 -1.4        -0.55363636 -0.39       -0.87       -1.26       -0.75\n",
      " -1.30666667 -1.53       -0.61648069 -0.62       -1.36666667 -0.71\n",
      " -0.47571429 -1.06       -0.92       -0.36777778  0.27       -0.34       -0.63\n",
      " -1.28       -0.86       -0.38666667 -1.39333333 -1.27       -0.14545455\n",
      " -0.35666667 -0.83       -1.11       -0.95       -1.43666667 -1.43166667\n",
      " -0.82227468 -0.47       -0.39       -0.78       -0.48166667 -0.7625\n",
      " -0.37084337 -0.67455808 -0.81674404]\n",
      "[[-0.21769934 -0.23813515 -0.2159755  ..., -0.06652807 -0.07054375\n",
      "  -0.02958105]\n",
      " [-0.21628634 -0.22867156 -0.2279878  ..., -0.06343174 -0.06627341\n",
      "  -0.0270969 ]\n",
      " [-0.20807785 -0.2365476  -0.22818836 ..., -0.0627562  -0.06080825\n",
      "  -0.02762412]\n",
      " ..., \n",
      " [-0.20221241 -0.2321057  -0.24118997 ..., -0.06301715 -0.06639704\n",
      "  -0.01981827]\n",
      " [-0.21088685 -0.23962709 -0.22025642 ..., -0.06914885 -0.06084931\n",
      "  -0.01834145]\n",
      " [-0.22111572 -0.23901138 -0.22886662 ..., -0.06534964 -0.06368385\n",
      "  -0.02532519]]\n"
     ]
    },
    {
     "data": {
      "text/plain": [
       "25"
      ]
     },
     "execution_count": 9,
     "metadata": {},
     "output_type": "execute_result"
    }
   ],
   "source": [
    "# normalisation -> [0,1]\n",
    "from sklearn.preprocessing import MinMaxScaler\n",
    "from sklearn.neural_network import BernoulliRBM\n",
    "\n",
    "mm_scaler = MinMaxScaler(feature_range=(0,1))\n",
    "X_mm = mm_scaler.fit_transform(X)\n",
    "\n",
    "# new features with RBM\n",
    "rbm = BernoulliRBM(n_components=25)\n",
    "X_rbm=rbm.fit_transform(X_mm)\n",
    "print(rbm.intercept_hidden_)\n",
    "print(rbm.intercept_visible_)\n",
    "print(rbm.components_)\n",
    "len(X_rbm[0])"
   ]
  },
  {
   "cell_type": "code",
   "execution_count": 5,
   "metadata": {
    "collapsed": true
   },
   "outputs": [],
   "source": [
    "# standardisation\n",
    "from sklearn.preprocessing import StandardScaler\n",
    "\n",
    "std_scaler = StandardScaler()\n",
    "X_std = std_scaler.fit_transform(X)"
   ]
  },
  {
   "cell_type": "code",
   "execution_count": 6,
   "metadata": {
    "collapsed": false
   },
   "outputs": [
    {
     "name": "stdout",
     "output_type": "stream",
     "text": [
      "Logistic regression with RFECV feature selection\n",
      "Best score: 0.666501\n",
      "{'estimator__C': 0.1}\n",
      "Optimal number of features : 1\n",
      "['diff_season_wages']\n"
     ]
    }
   ],
   "source": [
    "from sklearn.model_selection import GridSearchCV\n",
    "from sklearn.feature_selection import RFECV\n",
    "from sklearn.linear_model import LogisticRegression\n",
    "from sklearn.metrics import roc_auc_score, roc_curve, make_scorer\n",
    "\n",
    "param = {'estimator__C': [10**i for i in range(-5, 3)]}\n",
    "param1 = {'C': [10**i for i in range(-5, 3)]}\n",
    "aucroc_score = make_scorer(roc_auc_score)\n",
    "\n",
    "log_reg = LogisticRegression()\n",
    "\n",
    "selector = RFECV(log_reg, step=1, cv=5)\n",
    "\n",
    "grid_search = GridSearchCV(selector, param_grid=param,\n",
    "                                   scoring=aucroc_score, cv=5,\n",
    "                                   verbose=0, n_jobs=-1)\n",
    "grid_search.fit(X_std, y)\n",
    "\n",
    "print('Logistic regression with RFECV feature selection')\n",
    "print('Best score: %f' % grid_search.best_score_)\n",
    "print(grid_search.best_params_)\n",
    "print(\"Optimal number of features : %d\" % grid_search.best_estimator_.n_features_)\n",
    "best_features = [features[i] for i in range(len(grid_search.best_estimator_.ranking_)) if grid_search.best_estimator_.ranking_[i] == 1]\n",
    "print(best_features)"
   ]
  },
  {
   "cell_type": "code",
   "execution_count": 10,
   "metadata": {
    "collapsed": false
   },
   "outputs": [
    {
     "name": "stdout",
     "output_type": "stream",
     "text": [
      "Logistic regression with RBM feature extraction without feature selection\n",
      "Best score: 0.500000\n",
      "{'C': 1e-05}\n"
     ]
    }
   ],
   "source": [
    "grid_search = GridSearchCV(log_reg, param_grid=param1,\n",
    "                                   scoring=aucroc_score, cv=5,\n",
    "                                   verbose=0, n_jobs=-1)\n",
    "grid_search.fit(X_rbm, y)\n",
    "\n",
    "print('Logistic regression with RBM feature extraction without feature selection')\n",
    "print('Best score: %f' % grid_search.best_score_)\n",
    "print(grid_search.best_params_)"
   ]
  },
  {
   "cell_type": "code",
   "execution_count": null,
   "metadata": {
    "collapsed": true
   },
   "outputs": [],
   "source": []
  }
 ],
 "metadata": {
  "kernelspec": {
   "display_name": "Python 3",
   "language": "python",
   "name": "python3"
  },
  "language_info": {
   "codemirror_mode": {
    "name": "ipython",
    "version": 3
   },
   "file_extension": ".py",
   "mimetype": "text/x-python",
   "name": "python",
   "nbconvert_exporter": "python",
   "pygments_lexer": "ipython3",
   "version": "3.6.0"
  }
 },
 "nbformat": 4,
 "nbformat_minor": 2
}
