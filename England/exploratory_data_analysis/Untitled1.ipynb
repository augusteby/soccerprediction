{
 "cells": [
  {
   "cell_type": "markdown",
   "metadata": {},
   "source": [
    "# PATH TOWARDS STACKING"
   ]
  },
  {
   "cell_type": "code",
   "execution_count": 75,
   "metadata": {
    "collapsed": true
   },
   "outputs": [],
   "source": [
    "import pandas as pd\n",
    "import numpy as np\n",
    "import matplotlib.pyplot as plt\n",
    "from sklearn.ensemble import RandomForestClassifier\n",
    "from sklearn.linear_model import LogisticRegression\n",
    "from xgboost import XGBClassifier\n",
    "from sklearn.preprocessing import StandardScaler"
   ]
  },
  {
   "cell_type": "code",
   "execution_count": 76,
   "metadata": {
    "collapsed": false
   },
   "outputs": [],
   "source": [
    "CLASSIFIERS = {'rdmf': RandomForestClassifier(n_estimators=100, n_jobs=-1),\n",
    "               'logreg': LogisticRegression(n_jobs=-1),\n",
    "               'xgboost': XGBClassifier(n_estimators=24, learning_rate=0.05, max_depth=3,\n",
    "                                        min_child_weight=1, gamma=0,\n",
    "                                        scale_pos_weight=1, nthread=-1, seed=27)}\n",
    "\n",
    "FEATURES_TO_KEEP = {'rdmf': ['h_season_points', 'h_mean_nb_goals_scored_home',\n",
    "                             'h_mean_nb_goals_conceded_home', 'h_season_wages',\n",
    "                             'a_mean_nb_goals_scored_away',\n",
    "                             'a_mean_nb_goals_conceded_away',\n",
    "                             'a_season_wages', 'distance_km'],\n",
    "                    'logreg': ['h_nb_games_home', 'h_nb_victories', 'h_season_points',\n",
    "                               'h_nb_games_total', 'h_nb_goals_scored_home',\n",
    "                               'h_season_wages', 'a_nb_games_away', 'a_season_points',\n",
    "                               'a_nb_games_total', 'a_season_wages'],\n",
    "                    'xgboost': ['h_nb_victories', 'h_season_points',\n",
    "                                'h_nb_games_total', 'h_nb_goals_scored_home',\n",
    "                                'h_mean_nb_goals_scored_home', 'h_nb_goals_conceded_home',\n",
    "                                'h_mean_nb_goals_conceded_home', 'h_season_wages',\n",
    "                                'a_season_points', 'a_nb_goals_scored_away',\n",
    "                                'a_mean_nb_goals_scored_away', 'a_mean_nb_goals_conceded_away',\n",
    "                                'a_season_wages', 'capacity_home_stadium']}"
   ]
  },
  {
   "cell_type": "code",
   "execution_count": 77,
   "metadata": {
    "collapsed": false
   },
   "outputs": [],
   "source": [
    "FILEPATH = '../data/ML/E0_ML.csv'\n",
    "data = pd.read_csv(FILEPATH)\n",
    "data = data.drop('id', 1)\n",
    "stacking_data = data.copy()\n",
    "\n",
    "n_train = 2*len(stacking_data)/3\n",
    "n_test = len(stacking_data) - n_train\n",
    "\n",
    "stacking_data_train = stacking_data[0:n_train]\n",
    "stacking_data_train=stacking_data_train.reset_index()\n",
    "\n",
    "stacking_data_test = stacking_data[n_train:n_train+n_test]\n",
    "stacking_data_test=stacking_data_test.reset_index()"
   ]
  },
  {
   "cell_type": "code",
   "execution_count": 78,
   "metadata": {
    "collapsed": false
   },
   "outputs": [],
   "source": [
    "y = data['home_win'].values\n",
    "\n",
    "feat_data = data.drop('home_win', 1)\n",
    "\n",
    "\n",
    "X = feat_data.values\n",
    "standardizer = StandardScaler()\n",
    "X = standardizer.fit_transform(X)\n",
    "\n",
    "X_train = X[0:n_train]\n",
    "y_train = y[0:n_train]\n",
    "\n",
    "X_test = X[n_train:n_train+n_test]\n",
    "y_test = y[n_train:n_train+n_test]"
   ]
  },
  {
   "cell_type": "markdown",
   "metadata": {},
   "source": [
    "## Step 1: Metadata_train: Create k folds and associate the examples to one fold"
   ]
  },
  {
   "cell_type": "code",
   "execution_count": 79,
   "metadata": {
    "collapsed": false
   },
   "outputs": [],
   "source": [
    "stacking_data_train['fold_index']=np.nan\n",
    "from sklearn.model_selection import StratifiedKFold\n",
    "k=5\n",
    "skf = StratifiedKFold(n_splits=k,random_state=17)\n",
    "i=0\n",
    "for train_index, test_index in skf.split(X_train, y_train):\n",
    "    stacking_data_train.loc[test_index,'fold_index'] = i\n",
    "    i+=1"
   ]
  },
  {
   "cell_type": "markdown",
   "metadata": {},
   "source": [
    "## Step 2: Metada_train: For all models, train on k-1 folds, predict on the remaining fold"
   ]
  },
  {
   "cell_type": "code",
   "execution_count": 80,
   "metadata": {
    "collapsed": false
   },
   "outputs": [
    {
     "name": "stderr",
     "output_type": "stream",
     "text": [
      "/Users/auguste/Documents/fibronostics_code/Envs/machine_learning/lib/python2.7/site-packages/ipykernel/__main__.py:9: SettingWithCopyWarning: \n",
      "A value is trying to be set on a copy of a slice from a DataFrame\n",
      "\n",
      "See the caveats in the documentation: http://pandas.pydata.org/pandas-docs/stable/indexing.html#indexing-view-versus-copy\n"
     ]
    },
    {
     "ename": "IndexError",
     "evalue": "index 394 is out of bounds for axis 0 with size 394",
     "output_type": "error",
     "traceback": [
      "\u001b[0;31m---------------------------------------------------------------------------\u001b[0m",
      "\u001b[0;31mIndexError\u001b[0m                                Traceback (most recent call last)",
      "\u001b[0;32m<ipython-input-80-3ed1998b3eb6>\u001b[0m in \u001b[0;36m<module>\u001b[0;34m()\u001b[0m\n\u001b[1;32m      7\u001b[0m \u001b[0;34m\u001b[0m\u001b[0m\n\u001b[1;32m      8\u001b[0m         \u001b[0;32mfor\u001b[0m \u001b[0mi\u001b[0m \u001b[0;32min\u001b[0m \u001b[0mtest_index\u001b[0m\u001b[0;34m:\u001b[0m\u001b[0;34m\u001b[0m\u001b[0m\n\u001b[0;32m----> 9\u001b[0;31m             \u001b[0mstacking_data_train\u001b[0m\u001b[0;34m.\u001b[0m\u001b[0mloc\u001b[0m\u001b[0;34m[\u001b[0m\u001b[0mi\u001b[0m\u001b[0;34m]\u001b[0m\u001b[0;34m[\u001b[0m\u001b[0malgo_name\u001b[0m\u001b[0;34m]\u001b[0m\u001b[0;34m=\u001b[0m\u001b[0mpredictions\u001b[0m\u001b[0;34m[\u001b[0m\u001b[0mi\u001b[0m\u001b[0;34m]\u001b[0m\u001b[0;34m\u001b[0m\u001b[0m\n\u001b[0m\u001b[1;32m     10\u001b[0m \u001b[0;34m\u001b[0m\u001b[0m\n\u001b[1;32m     11\u001b[0m \u001b[0mstacking_data_train\u001b[0m\u001b[0;34m.\u001b[0m\u001b[0mhead\u001b[0m\u001b[0;34m(\u001b[0m\u001b[0;34m)\u001b[0m\u001b[0;34m\u001b[0m\u001b[0m\n",
      "\u001b[0;31mIndexError\u001b[0m: index 394 is out of bounds for axis 0 with size 394"
     ]
    }
   ],
   "source": [
    "for algo_name in CLASSIFIERS:\n",
    "    stacking_data_train[algo_name]=np.nan\n",
    "    classifier = CLASSIFIERS[algo_name]\n",
    "    for train_index, test_index in skf.split(X_train, y_train):\n",
    "        classifier.fit(X_train[train_index],y_train[train_index])\n",
    "        predictions = classifier.predict(X_train[test_index])\n",
    "        \n",
    "        for i in test_index:\n",
    "            stacking_data_train.loc[i][algo_name]=predictions[i]\n",
    "            \n",
    "stacking_data_train.head()"
   ]
  },
  {
   "cell_type": "code",
   "execution_count": null,
   "metadata": {
    "collapsed": true
   },
   "outputs": [],
   "source": []
  }
 ],
 "metadata": {
  "kernelspec": {
   "display_name": "Python 2",
   "language": "python",
   "name": "python2"
  },
  "language_info": {
   "codemirror_mode": {
    "name": "ipython",
    "version": 2
   },
   "file_extension": ".py",
   "mimetype": "text/x-python",
   "name": "python",
   "nbconvert_exporter": "python",
   "pygments_lexer": "ipython2",
   "version": "2.7.10"
  }
 },
 "nbformat": 4,
 "nbformat_minor": 2
}
