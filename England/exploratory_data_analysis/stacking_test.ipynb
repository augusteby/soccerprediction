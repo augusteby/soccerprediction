{
 "cells": [
  {
   "cell_type": "markdown",
   "metadata": {
    "deletable": true,
    "editable": true
   },
   "source": [
    "# PATH TOWARDS STACKING"
   ]
  },
  {
   "cell_type": "code",
   "execution_count": 1,
   "metadata": {
    "collapsed": false,
    "deletable": true,
    "editable": true
   },
   "outputs": [],
   "source": [
    "import pandas as pd\n",
    "import numpy as np\n",
    "import matplotlib.pyplot as plt\n",
    "from sklearn.ensemble import RandomForestClassifier\n",
    "from sklearn.linear_model import LogisticRegression\n",
    "#from xgboost import XGBClassifier\n",
    "from sklearn.preprocessing import StandardScaler\n",
    "from sklearn.metrics import accuracy_score, confusion_matrix, roc_auc_score"
   ]
  },
  {
   "cell_type": "code",
   "execution_count": 2,
   "metadata": {
    "collapsed": false,
    "deletable": true,
    "editable": true
   },
   "outputs": [],
   "source": [
    "CLASSIFIERS = {'rdmf': RandomForestClassifier(n_estimators=100, random_state=27, n_jobs=-1),\n",
    "               'logreg': LogisticRegression(n_jobs=-1)}\n",
    "               #'xgboost': XGBClassifier(n_estimators=24, learning_rate=0.05, max_depth=3,\n",
    "                         #               min_child_weight=1, gamma=0,\n",
    "                           #             scale_pos_weight=1, nthread=-1, seed=27)}\n",
    "\n",
    "FEATURES_TO_KEEP = {'rdmf': ['h_season_points', 'h_mean_nb_goals_scored_home',\n",
    "                             'h_mean_nb_goals_conceded_home', 'h_season_wages',\n",
    "                             'a_mean_nb_goals_scored_away',\n",
    "                             'a_mean_nb_goals_conceded_away',\n",
    "                             'a_season_wages', 'distance_km'],\n",
    "                    'logreg': ['h_nb_games_home', 'h_nb_victories', 'h_season_points',\n",
    "                               'h_nb_games_total', 'h_nb_goals_scored_home',\n",
    "                               'h_season_wages', 'a_nb_games_away', 'a_season_points',\n",
    "                               'a_nb_games_total', 'a_season_wages'],\n",
    "                    'xgboost': ['h_nb_victories', 'h_season_points',\n",
    "                                'h_nb_games_total', 'h_nb_goals_scored_home',\n",
    "                                'h_mean_nb_goals_scored_home', 'h_nb_goals_conceded_home',\n",
    "                                'h_mean_nb_goals_conceded_home', 'h_season_wages',\n",
    "                                'a_season_points', 'a_nb_goals_scored_away',\n",
    "                                'a_mean_nb_goals_scored_away', 'a_mean_nb_goals_conceded_away',\n",
    "                                'a_season_wages', 'capacity_home_stadium']}"
   ]
  },
  {
   "cell_type": "code",
   "execution_count": 3,
   "metadata": {
    "collapsed": false,
    "deletable": true,
    "editable": true
   },
   "outputs": [],
   "source": [
    "FILEPATH = '../data/ML/E0_ML.csv'\n",
    "data = pd.read_csv(FILEPATH)\n",
    "data = data.drop('id', 1)\n",
    "stacking_data = data.copy()\n",
    "\n",
    "n_train = int(2*len(stacking_data)/3)\n",
    "n_test = len(stacking_data) - n_train\n",
    "\n",
    "stacking_data_train = stacking_data[0:n_train]\n",
    "stacking_data_train=stacking_data_train.reset_index()\n",
    "\n",
    "stacking_data_test = stacking_data[n_train:n_train+n_test]\n",
    "stacking_data_test=stacking_data_test.reset_index()"
   ]
  },
  {
   "cell_type": "code",
   "execution_count": 4,
   "metadata": {
    "collapsed": false,
    "deletable": true,
    "editable": true
   },
   "outputs": [],
   "source": [
    "y = data['home_win'].values\n",
    "\n",
    "feat_data = data.drop('home_win', 1)\n",
    "\n",
    "\n",
    "X = feat_data.values\n",
    "standardizer = StandardScaler()\n",
    "X = standardizer.fit_transform(X)\n",
    "\n",
    "X_train = X[0:n_train]\n",
    "y_train = y[0:n_train]\n",
    "\n",
    "X_test = X[n_train:n_train+n_test]\n",
    "y_test = y[n_train:n_train+n_test]"
   ]
  },
  {
   "cell_type": "markdown",
   "metadata": {
    "deletable": true,
    "editable": true
   },
   "source": [
    "## Step 1: Metadata_train: Create k folds and associate the examples to one fold"
   ]
  },
  {
   "cell_type": "code",
   "execution_count": 5,
   "metadata": {
    "collapsed": false,
    "deletable": true,
    "editable": true
   },
   "outputs": [],
   "source": [
    "stacking_data_train['fold_index']=np.nan\n",
    "from sklearn.model_selection import StratifiedKFold\n",
    "k=5\n",
    "skf = StratifiedKFold(n_splits=k,random_state=17)\n",
    "i=0\n",
    "for train_index, test_index in skf.split(X_train, y_train):\n",
    "    stacking_data_train.loc[test_index,'fold_index'] = i\n",
    "    i+=1"
   ]
  },
  {
   "cell_type": "markdown",
   "metadata": {
    "deletable": true,
    "editable": true
   },
   "source": [
    "## Step 2: Metada_train: For all models, train on k-1 folds, predict on the remaining fold"
   ]
  },
  {
   "cell_type": "code",
   "execution_count": 6,
   "metadata": {
    "collapsed": false,
    "deletable": true,
    "editable": true
   },
   "outputs": [
    {
     "data": {
      "text/html": [
       "<div>\n",
       "<table border=\"1\" class=\"dataframe\">\n",
       "  <thead>\n",
       "    <tr style=\"text-align: right;\">\n",
       "      <th></th>\n",
       "      <th>index</th>\n",
       "      <th>h_nb_games_home</th>\n",
       "      <th>h_nb_victories</th>\n",
       "      <th>h_season_points</th>\n",
       "      <th>h_nb_games_total</th>\n",
       "      <th>h_last_n_games_points</th>\n",
       "      <th>h_nb_goals_scored_home</th>\n",
       "      <th>h_mean_nb_goals_scored_home</th>\n",
       "      <th>h_nb_goals_conceded_home</th>\n",
       "      <th>h_mean_nb_goals_conceded_home</th>\n",
       "      <th>...</th>\n",
       "      <th>Month</th>\n",
       "      <th>Week</th>\n",
       "      <th>distance_km</th>\n",
       "      <th>capacity_home_stadium</th>\n",
       "      <th>home_win</th>\n",
       "      <th>fold_index</th>\n",
       "      <th>rdmf</th>\n",
       "      <th>rdmf_proba</th>\n",
       "      <th>logreg</th>\n",
       "      <th>logreg_proba</th>\n",
       "    </tr>\n",
       "  </thead>\n",
       "  <tbody>\n",
       "    <tr>\n",
       "      <th>0</th>\n",
       "      <td>0</td>\n",
       "      <td>0.0</td>\n",
       "      <td>0.0</td>\n",
       "      <td>0.0</td>\n",
       "      <td>0.0</td>\n",
       "      <td>0.0</td>\n",
       "      <td>0.0</td>\n",
       "      <td>0.0</td>\n",
       "      <td>0.0</td>\n",
       "      <td>0.0</td>\n",
       "      <td>...</td>\n",
       "      <td>8</td>\n",
       "      <td>33</td>\n",
       "      <td>7839.955337</td>\n",
       "      <td>42785.0</td>\n",
       "      <td>0</td>\n",
       "      <td>0.0</td>\n",
       "      <td>1.0</td>\n",
       "      <td>0.64</td>\n",
       "      <td>1.0</td>\n",
       "      <td>0.524005</td>\n",
       "    </tr>\n",
       "    <tr>\n",
       "      <th>1</th>\n",
       "      <td>1</td>\n",
       "      <td>0.0</td>\n",
       "      <td>0.0</td>\n",
       "      <td>0.0</td>\n",
       "      <td>0.0</td>\n",
       "      <td>0.0</td>\n",
       "      <td>0.0</td>\n",
       "      <td>0.0</td>\n",
       "      <td>0.0</td>\n",
       "      <td>0.0</td>\n",
       "      <td>...</td>\n",
       "      <td>8</td>\n",
       "      <td>33</td>\n",
       "      <td>2384.244176</td>\n",
       "      <td>31154.0</td>\n",
       "      <td>0</td>\n",
       "      <td>0.0</td>\n",
       "      <td>0.0</td>\n",
       "      <td>0.43</td>\n",
       "      <td>0.0</td>\n",
       "      <td>0.244210</td>\n",
       "    </tr>\n",
       "    <tr>\n",
       "      <th>2</th>\n",
       "      <td>2</td>\n",
       "      <td>0.0</td>\n",
       "      <td>0.0</td>\n",
       "      <td>0.0</td>\n",
       "      <td>0.0</td>\n",
       "      <td>0.0</td>\n",
       "      <td>0.0</td>\n",
       "      <td>0.0</td>\n",
       "      <td>0.0</td>\n",
       "      <td>0.0</td>\n",
       "      <td>...</td>\n",
       "      <td>8</td>\n",
       "      <td>33</td>\n",
       "      <td>8738.109400</td>\n",
       "      <td>28100.0</td>\n",
       "      <td>0</td>\n",
       "      <td>0.0</td>\n",
       "      <td>1.0</td>\n",
       "      <td>0.55</td>\n",
       "      <td>0.0</td>\n",
       "      <td>0.410395</td>\n",
       "    </tr>\n",
       "    <tr>\n",
       "      <th>3</th>\n",
       "      <td>3</td>\n",
       "      <td>0.0</td>\n",
       "      <td>0.0</td>\n",
       "      <td>0.0</td>\n",
       "      <td>0.0</td>\n",
       "      <td>0.0</td>\n",
       "      <td>0.0</td>\n",
       "      <td>0.0</td>\n",
       "      <td>0.0</td>\n",
       "      <td>0.0</td>\n",
       "      <td>...</td>\n",
       "      <td>8</td>\n",
       "      <td>33</td>\n",
       "      <td>14384.656594</td>\n",
       "      <td>42449.0</td>\n",
       "      <td>1</td>\n",
       "      <td>0.0</td>\n",
       "      <td>1.0</td>\n",
       "      <td>0.92</td>\n",
       "      <td>1.0</td>\n",
       "      <td>0.724157</td>\n",
       "    </tr>\n",
       "    <tr>\n",
       "      <th>4</th>\n",
       "      <td>4</td>\n",
       "      <td>0.0</td>\n",
       "      <td>0.0</td>\n",
       "      <td>0.0</td>\n",
       "      <td>0.0</td>\n",
       "      <td>0.0</td>\n",
       "      <td>0.0</td>\n",
       "      <td>0.0</td>\n",
       "      <td>0.0</td>\n",
       "      <td>0.0</td>\n",
       "      <td>...</td>\n",
       "      <td>8</td>\n",
       "      <td>33</td>\n",
       "      <td>8491.070855</td>\n",
       "      <td>40157.0</td>\n",
       "      <td>0</td>\n",
       "      <td>0.0</td>\n",
       "      <td>1.0</td>\n",
       "      <td>0.57</td>\n",
       "      <td>0.0</td>\n",
       "      <td>0.311122</td>\n",
       "    </tr>\n",
       "  </tbody>\n",
       "</table>\n",
       "<p>5 rows × 31 columns</p>\n",
       "</div>"
      ],
      "text/plain": [
       "   index  h_nb_games_home  h_nb_victories  h_season_points  h_nb_games_total  \\\n",
       "0      0              0.0             0.0              0.0               0.0   \n",
       "1      1              0.0             0.0              0.0               0.0   \n",
       "2      2              0.0             0.0              0.0               0.0   \n",
       "3      3              0.0             0.0              0.0               0.0   \n",
       "4      4              0.0             0.0              0.0               0.0   \n",
       "\n",
       "   h_last_n_games_points  h_nb_goals_scored_home  h_mean_nb_goals_scored_home  \\\n",
       "0                    0.0                     0.0                          0.0   \n",
       "1                    0.0                     0.0                          0.0   \n",
       "2                    0.0                     0.0                          0.0   \n",
       "3                    0.0                     0.0                          0.0   \n",
       "4                    0.0                     0.0                          0.0   \n",
       "\n",
       "   h_nb_goals_conceded_home  h_mean_nb_goals_conceded_home      ...       \\\n",
       "0                       0.0                            0.0      ...        \n",
       "1                       0.0                            0.0      ...        \n",
       "2                       0.0                            0.0      ...        \n",
       "3                       0.0                            0.0      ...        \n",
       "4                       0.0                            0.0      ...        \n",
       "\n",
       "   Month  Week   distance_km  capacity_home_stadium  home_win  fold_index  \\\n",
       "0      8    33   7839.955337                42785.0         0         0.0   \n",
       "1      8    33   2384.244176                31154.0         0         0.0   \n",
       "2      8    33   8738.109400                28100.0         0         0.0   \n",
       "3      8    33  14384.656594                42449.0         1         0.0   \n",
       "4      8    33   8491.070855                40157.0         0         0.0   \n",
       "\n",
       "   rdmf  rdmf_proba  logreg  logreg_proba  \n",
       "0   1.0        0.64     1.0      0.524005  \n",
       "1   0.0        0.43     0.0      0.244210  \n",
       "2   1.0        0.55     0.0      0.410395  \n",
       "3   1.0        0.92     1.0      0.724157  \n",
       "4   1.0        0.57     0.0      0.311122  \n",
       "\n",
       "[5 rows x 31 columns]"
      ]
     },
     "execution_count": 6,
     "metadata": {},
     "output_type": "execute_result"
    }
   ],
   "source": [
    "for algo_name in CLASSIFIERS:\n",
    "    stacking_data_train[algo_name]=np.nan\n",
    "    algo_proba_name = algo_name+'_proba'\n",
    "    stacking_data_train[algo_proba_name]=np.nan\n",
    "    \n",
    "    classifier = CLASSIFIERS[algo_name]\n",
    "  \n",
    "    for train_index, test_index in skf.split(X_train, y_train):\n",
    "        classifier.fit(X_train[train_index],y_train[train_index])\n",
    "        probas = classifier.predict_proba(X_train[test_index])\n",
    "        probas_home_win = [p[1] for p in probas]\n",
    "        predictions = [1 if p[1] > 0.5 else 0 for p in probas]\n",
    "        for i in range(len(test_index)):\n",
    "            stacking_data_train.set_value(test_index[i], algo_name, predictions[i])\n",
    "            stacking_data_train.set_value(test_index[i],algo_proba_name,probas_home_win[i])\n",
    "            \n",
    "stacking_data_train.head()"
   ]
  },
  {
   "cell_type": "markdown",
   "metadata": {
    "collapsed": true,
    "deletable": true,
    "editable": true
   },
   "source": [
    "## Step 3: Train models on entire training database and predict on testing database to create Metadata_test"
   ]
  },
  {
   "cell_type": "code",
   "execution_count": 7,
   "metadata": {
    "collapsed": false,
    "deletable": true,
    "editable": true
   },
   "outputs": [
    {
     "data": {
      "text/html": [
       "<div>\n",
       "<table border=\"1\" class=\"dataframe\">\n",
       "  <thead>\n",
       "    <tr style=\"text-align: right;\">\n",
       "      <th></th>\n",
       "      <th>index</th>\n",
       "      <th>h_nb_games_home</th>\n",
       "      <th>h_nb_victories</th>\n",
       "      <th>h_season_points</th>\n",
       "      <th>h_nb_games_total</th>\n",
       "      <th>h_last_n_games_points</th>\n",
       "      <th>h_nb_goals_scored_home</th>\n",
       "      <th>h_mean_nb_goals_scored_home</th>\n",
       "      <th>h_nb_goals_conceded_home</th>\n",
       "      <th>h_mean_nb_goals_conceded_home</th>\n",
       "      <th>...</th>\n",
       "      <th>a_season_wages</th>\n",
       "      <th>Month</th>\n",
       "      <th>Week</th>\n",
       "      <th>distance_km</th>\n",
       "      <th>capacity_home_stadium</th>\n",
       "      <th>home_win</th>\n",
       "      <th>rdmf</th>\n",
       "      <th>rdmf_proba</th>\n",
       "      <th>logreg</th>\n",
       "      <th>logreg_proba</th>\n",
       "    </tr>\n",
       "  </thead>\n",
       "  <tbody>\n",
       "    <tr>\n",
       "      <th>0</th>\n",
       "      <td>1968</td>\n",
       "      <td>3.0</td>\n",
       "      <td>1.0</td>\n",
       "      <td>8.0</td>\n",
       "      <td>6.0</td>\n",
       "      <td>3.0</td>\n",
       "      <td>4.0</td>\n",
       "      <td>1.333333</td>\n",
       "      <td>4.0</td>\n",
       "      <td>1.333333</td>\n",
       "      <td>...</td>\n",
       "      <td>80.0</td>\n",
       "      <td>10</td>\n",
       "      <td>40</td>\n",
       "      <td>5695.401385</td>\n",
       "      <td>36230.0</td>\n",
       "      <td>1</td>\n",
       "      <td>0.0</td>\n",
       "      <td>0.36</td>\n",
       "      <td>1.0</td>\n",
       "      <td>0.508677</td>\n",
       "    </tr>\n",
       "    <tr>\n",
       "      <th>1</th>\n",
       "      <td>1969</td>\n",
       "      <td>3.0</td>\n",
       "      <td>1.0</td>\n",
       "      <td>7.0</td>\n",
       "      <td>6.0</td>\n",
       "      <td>3.0</td>\n",
       "      <td>4.0</td>\n",
       "      <td>1.333333</td>\n",
       "      <td>5.0</td>\n",
       "      <td>1.666667</td>\n",
       "      <td>...</td>\n",
       "      <td>73.0</td>\n",
       "      <td>10</td>\n",
       "      <td>40</td>\n",
       "      <td>554.895194</td>\n",
       "      <td>35303.0</td>\n",
       "      <td>1</td>\n",
       "      <td>0.0</td>\n",
       "      <td>0.46</td>\n",
       "      <td>0.0</td>\n",
       "      <td>0.421646</td>\n",
       "    </tr>\n",
       "    <tr>\n",
       "      <th>2</th>\n",
       "      <td>1970</td>\n",
       "      <td>3.0</td>\n",
       "      <td>2.0</td>\n",
       "      <td>13.0</td>\n",
       "      <td>7.0</td>\n",
       "      <td>7.0</td>\n",
       "      <td>6.0</td>\n",
       "      <td>2.000000</td>\n",
       "      <td>1.0</td>\n",
       "      <td>0.333333</td>\n",
       "      <td>...</td>\n",
       "      <td>77.0</td>\n",
       "      <td>10</td>\n",
       "      <td>42</td>\n",
       "      <td>14491.591434</td>\n",
       "      <td>32689.0</td>\n",
       "      <td>1</td>\n",
       "      <td>0.0</td>\n",
       "      <td>0.49</td>\n",
       "      <td>0.0</td>\n",
       "      <td>0.463619</td>\n",
       "    </tr>\n",
       "    <tr>\n",
       "      <th>3</th>\n",
       "      <td>1971</td>\n",
       "      <td>3.0</td>\n",
       "      <td>0.0</td>\n",
       "      <td>4.0</td>\n",
       "      <td>7.0</td>\n",
       "      <td>2.0</td>\n",
       "      <td>5.0</td>\n",
       "      <td>1.666667</td>\n",
       "      <td>7.0</td>\n",
       "      <td>2.333333</td>\n",
       "      <td>...</td>\n",
       "      <td>57.0</td>\n",
       "      <td>10</td>\n",
       "      <td>42</td>\n",
       "      <td>15007.135737</td>\n",
       "      <td>52409.0</td>\n",
       "      <td>1</td>\n",
       "      <td>0.0</td>\n",
       "      <td>0.42</td>\n",
       "      <td>0.0</td>\n",
       "      <td>0.474554</td>\n",
       "    </tr>\n",
       "    <tr>\n",
       "      <th>4</th>\n",
       "      <td>1972</td>\n",
       "      <td>3.0</td>\n",
       "      <td>1.0</td>\n",
       "      <td>14.0</td>\n",
       "      <td>7.0</td>\n",
       "      <td>4.0</td>\n",
       "      <td>4.0</td>\n",
       "      <td>1.333333</td>\n",
       "      <td>3.0</td>\n",
       "      <td>1.000000</td>\n",
       "      <td>...</td>\n",
       "      <td>101.0</td>\n",
       "      <td>10</td>\n",
       "      <td>42</td>\n",
       "      <td>9694.031967</td>\n",
       "      <td>47405.0</td>\n",
       "      <td>1</td>\n",
       "      <td>1.0</td>\n",
       "      <td>0.54</td>\n",
       "      <td>1.0</td>\n",
       "      <td>0.678147</td>\n",
       "    </tr>\n",
       "  </tbody>\n",
       "</table>\n",
       "<p>5 rows × 30 columns</p>\n",
       "</div>"
      ],
      "text/plain": [
       "   index  h_nb_games_home  h_nb_victories  h_season_points  h_nb_games_total  \\\n",
       "0   1968              3.0             1.0              8.0               6.0   \n",
       "1   1969              3.0             1.0              7.0               6.0   \n",
       "2   1970              3.0             2.0             13.0               7.0   \n",
       "3   1971              3.0             0.0              4.0               7.0   \n",
       "4   1972              3.0             1.0             14.0               7.0   \n",
       "\n",
       "   h_last_n_games_points  h_nb_goals_scored_home  h_mean_nb_goals_scored_home  \\\n",
       "0                    3.0                     4.0                     1.333333   \n",
       "1                    3.0                     4.0                     1.333333   \n",
       "2                    7.0                     6.0                     2.000000   \n",
       "3                    2.0                     5.0                     1.666667   \n",
       "4                    4.0                     4.0                     1.333333   \n",
       "\n",
       "   h_nb_goals_conceded_home  h_mean_nb_goals_conceded_home      ...       \\\n",
       "0                       4.0                       1.333333      ...        \n",
       "1                       5.0                       1.666667      ...        \n",
       "2                       1.0                       0.333333      ...        \n",
       "3                       7.0                       2.333333      ...        \n",
       "4                       3.0                       1.000000      ...        \n",
       "\n",
       "   a_season_wages  Month  Week   distance_km  capacity_home_stadium  home_win  \\\n",
       "0            80.0     10    40   5695.401385                36230.0         1   \n",
       "1            73.0     10    40    554.895194                35303.0         1   \n",
       "2            77.0     10    42  14491.591434                32689.0         1   \n",
       "3            57.0     10    42  15007.135737                52409.0         1   \n",
       "4           101.0     10    42   9694.031967                47405.0         1   \n",
       "\n",
       "   rdmf  rdmf_proba  logreg  logreg_proba  \n",
       "0   0.0        0.36     1.0      0.508677  \n",
       "1   0.0        0.46     0.0      0.421646  \n",
       "2   0.0        0.49     0.0      0.463619  \n",
       "3   0.0        0.42     0.0      0.474554  \n",
       "4   1.0        0.54     1.0      0.678147  \n",
       "\n",
       "[5 rows x 30 columns]"
      ]
     },
     "execution_count": 7,
     "metadata": {},
     "output_type": "execute_result"
    }
   ],
   "source": [
    "for algo_name in CLASSIFIERS:\n",
    "    stacking_data_test[algo_name]=np.nan\n",
    "    algo_proba_name = algo_name+'_proba'\n",
    "    stacking_data_test[algo_proba_name]=np.nan\n",
    "    \n",
    "    classifier = CLASSIFIERS[algo_name]\n",
    "    classifier.fit(X_train,y_train)\n",
    "    probas_test = classifier.predict_proba(X_test)\n",
    "    probas_home_win_test = [p[1] for p in probas_test]\n",
    "    predictions_test = [1 if p[1] > 0.5 else 0 for p in probas_test]\n",
    "    for i in range(len(predictions_test)):\n",
    "        stacking_data_test.set_value(i,algo_name,predictions_test[i])\n",
    "        stacking_data_test.set_value(i,algo_proba_name,probas_home_win_test[i])\n",
    "\n",
    "stacking_data_test.head()"
   ]
  },
  {
   "cell_type": "markdown",
   "metadata": {
    "deletable": true,
    "editable": true
   },
   "source": [
    "## Train and predict with a stacking model"
   ]
  },
  {
   "cell_type": "code",
   "execution_count": 8,
   "metadata": {
    "collapsed": false,
    "deletable": true,
    "editable": true
   },
   "outputs": [
    {
     "name": "stdout",
     "output_type": "stream",
     "text": [
      "AUC with stacking: 0.628479\n",
      "accuracy with stacking: 0.618274\n"
     ]
    }
   ],
   "source": [
    "train_meta = stacking_data_train[['rdmf','logreg','home_win']]\n",
    "X_train_meta = train_meta.drop('home_win',1).values\n",
    "y_train_meta = train_meta['home_win'].values\n",
    "\n",
    "test_meta = stacking_data_test[['rdmf','logreg','home_win']]\n",
    "X_test_meta = test_meta.drop('home_win',1).values\n",
    "y_test_meta = test_meta['home_win'].values\n",
    "\n",
    "stack_model = RandomForestClassifier(n_estimators = 100, n_jobs = -1)\n",
    "stack_model.fit(X_train_meta,y_train_meta)\n",
    "proba_stack = stack_model.predict_proba(X_test_meta)\n",
    "proba_home_win_stack = [p[1] for p in proba_stack]\n",
    "predictions_stack = [1 if p[1] > 0.5 else 0 for p in proba_stack]\n",
    "\n",
    "auc_stack = roc_auc_score(y_test_meta, proba_home_win_stack)\n",
    "accuracy_stack = accuracy_score(y_test_meta,predictions_stack)\n",
    "print('AUC with stacking: %f' % auc_stack)\n",
    "print('accuracy with stacking: %f' % accuracy_stack)"
   ]
  },
  {
   "cell_type": "markdown",
   "metadata": {
    "deletable": true,
    "editable": true
   },
   "source": [
    "## Comparison with initial models"
   ]
  },
  {
   "cell_type": "code",
   "execution_count": 9,
   "metadata": {
    "collapsed": false,
    "deletable": true,
    "editable": true
   },
   "outputs": [
    {
     "name": "stdout",
     "output_type": "stream",
     "text": [
      "AUC random forest: 0.665669\n",
      "accuracy random forest: 0.635533\n",
      "AUC logistic regression: 0.668936\n",
      "accuracy logistic regression: 0.613198\n"
     ]
    }
   ],
   "source": [
    "y_train_initial = stacking_data_train['home_win'].values\n",
    "y_test_initial = stacking_data_test['home_win'].values\n",
    "\n",
    "X_train_rdmf = stacking_data_train[FEATURES_TO_KEEP['rdmf']].values\n",
    "X_test_rdmf = stacking_data_test[FEATURES_TO_KEEP['rdmf']].values\n",
    "\n",
    "X_train_log_reg = stacking_data_train[FEATURES_TO_KEEP['logreg']].values\n",
    "X_test_log_reg = stacking_data_test[FEATURES_TO_KEEP['logreg']].values\n",
    "\n",
    "rdmf = CLASSIFIERS['rdmf']\n",
    "rdmf.fit(X_train_rdmf,y_train_initial)\n",
    "proba_rdmf = rdmf.predict_proba(X_test_rdmf)\n",
    "proba_home_win_rdmf = [p[1] for p in proba_rdmf]\n",
    "predictions_rdmf = [1 if p[1] > 0.5 else 0 for p in proba_rdmf]\n",
    "auc_rdmf = roc_auc_score(y_test_initial, proba_home_win_rdmf)\n",
    "accuracy_rdmf = accuracy_score(y_test_initial,predictions_rdmf)\n",
    "print('AUC random forest: %f' % auc_rdmf)\n",
    "print('accuracy random forest: %f' % accuracy_rdmf)\n",
    "\n",
    "logreg = CLASSIFIERS['logreg']\n",
    "logreg.fit(X_train_log_reg,y_train_initial)\n",
    "proba_logreg = logreg.predict_proba(X_test_log_reg)\n",
    "proba_home_win_logreg = [p[1] for p in proba_logreg]\n",
    "predictions_logreg = [1 if p[1] > 0.5 else 0 for p in proba_logreg]\n",
    "auc_logreg = roc_auc_score(y_test_initial, proba_home_win_logreg)\n",
    "accuracy_logreg = accuracy_score(y_test_initial,predictions_logreg)\n",
    "print('AUC logistic regression: %f' % auc_logreg)\n",
    "print('accuracy logistic regression: %f' % accuracy_logreg)\n"
   ]
  },
  {
   "cell_type": "code",
   "execution_count": 10,
   "metadata": {
    "collapsed": false,
    "deletable": true,
    "editable": true
   },
   "outputs": [
    {
     "name": "stdout",
     "output_type": "stream",
     "text": [
      "0.62538071066\n",
      "0.618274111675\n"
     ]
    }
   ],
   "source": [
    "predict_aux_rdmf = stacking_data_test['rdmf'].values\n",
    "predict_aux_logreg = stacking_data_test['logreg'].values\n",
    "\n",
    "accuracy_aux_rdmf = accuracy_score(y_test_initial,predict_aux_rdmf)\n",
    "print(accuracy_aux_rdmf)\n",
    "accuracy_aux_logreg = accuracy_score(y_test_initial,predict_aux_logreg)\n",
    "print(accuracy_aux_logreg)"
   ]
  },
  {
   "cell_type": "code",
   "execution_count": 11,
   "metadata": {
    "collapsed": false,
    "deletable": true,
    "editable": true
   },
   "outputs": [
    {
     "name": "stdout",
     "output_type": "stream",
     "text": [
      "985\n",
      "985\n",
      "812\n"
     ]
    }
   ],
   "source": [
    "predic_dic = {'pred_stack':predictions_stack,\n",
    "             'pred_rdmf':predict_aux_rdmf,\n",
    "             'pred_logreg':predict_aux_logreg}\n",
    "predic_df = pd.DataFrame(predic_dic)\n",
    "predic_df_1 = predic_df[predic_df['pred_logreg']==predic_df['pred_stack']]\n",
    "predic_df_2 = predic_df[predic_df['pred_rdmf']==predic_df['pred_stack']]\n",
    "print(len(predic_df))\n",
    "print(len(predic_df_1))\n",
    "print(len(predic_df_2))"
   ]
  },
  {
   "cell_type": "code",
   "execution_count": 32,
   "metadata": {
    "collapsed": false,
    "deletable": true,
    "editable": true
   },
   "outputs": [
    {
     "name": "stdout",
     "output_type": "stream",
     "text": [
      "0.667737014499\n",
      "0.667938613993\n",
      "\n",
      "0.675798915935\n",
      "0.675952713488\n",
      "0.674975891194\n",
      "\n",
      "0.674871973929\n"
     ]
    }
   ],
   "source": [
    "proba_rdmf = stacking_data_test['rdmf_proba'].values\n",
    "proba_logreg = stacking_data_test['logreg_proba'].values\n",
    "probas_mean = 0.5*proba_rdmf + 0.5*proba_logreg\n",
    "probas_meth1 = 0.6*proba_rdmf + 0.4*proba_logreg\n",
    "probas_meth2 = 0.4*proba_rdmf + 0.6*proba_logreg\n",
    "print(roc_auc_score(y_test_initial, proba_rdmf))\n",
    "print(roc_auc_score(y_test_initial, proba_logreg))\n",
    "print('')\n",
    "print(roc_auc_score(y_test_initial, probas_mean))\n",
    "print(roc_auc_score(y_test_initial, probas_meth1))\n",
    "print(roc_auc_score(y_test_initial, probas_meth2))\n",
    "print('')\n",
    "probas_meth3 = [0.5*proba_home_win_logreg[i] + 0.5*proba_home_win_rdmf[i] for i in range(len(proba_home_win_logreg))]\n",
    "print(roc_auc_score(y_test_initial, probas_meth3))"
   ]
  },
  {
   "cell_type": "markdown",
   "metadata": {
    "deletable": true,
    "editable": true
   },
   "source": [
    "## CV training stacking model"
   ]
  },
  {
   "cell_type": "markdown",
   "metadata": {
    "collapsed": true,
    "deletable": true,
    "editable": true
   },
   "source": [
    "### merge meta_data_train and meta_data_test"
   ]
  },
  {
   "cell_type": "code",
   "execution_count": 18,
   "metadata": {
    "collapsed": false
   },
   "outputs": [
    {
     "name": "stdout",
     "output_type": "stream",
     "text": [
      "1968\n",
      "985\n",
      "2953\n",
      "['index' 'h_nb_games_home' 'h_nb_victories' 'h_season_points'\n",
      " 'h_nb_games_total' 'h_last_n_games_points' 'h_nb_goals_scored_home'\n",
      " 'h_mean_nb_goals_scored_home' 'h_nb_goals_conceded_home'\n",
      " 'h_mean_nb_goals_conceded_home' 'h_season_wages' 'a_nb_games_away'\n",
      " 'a_nb_victories_draws' 'a_season_points' 'a_nb_games_total'\n",
      " 'a_last_n_games_points' 'a_nb_goals_scored_away'\n",
      " 'a_mean_nb_goals_scored_away' 'a_nb_goals_conceded_away'\n",
      " 'a_mean_nb_goals_conceded_away' 'a_season_wages' 'Month' 'Week'\n",
      " 'distance_km' 'capacity_home_stadium' 'home_win' 'rdmf' 'rdmf_proba'\n",
      " 'logreg' 'logreg_proba']\n",
      "['index' 'h_nb_games_home' 'h_nb_victories' 'h_season_points'\n",
      " 'h_nb_games_total' 'h_last_n_games_points' 'h_nb_goals_scored_home'\n",
      " 'h_mean_nb_goals_scored_home' 'h_nb_goals_conceded_home'\n",
      " 'h_mean_nb_goals_conceded_home' 'h_season_wages' 'a_nb_games_away'\n",
      " 'a_nb_victories_draws' 'a_season_points' 'a_nb_games_total'\n",
      " 'a_last_n_games_points' 'a_nb_goals_scored_away'\n",
      " 'a_mean_nb_goals_scored_away' 'a_nb_goals_conceded_away'\n",
      " 'a_mean_nb_goals_conceded_away' 'a_season_wages' 'Month' 'Week'\n",
      " 'distance_km' 'capacity_home_stadium' 'home_win' 'rdmf' 'rdmf_proba'\n",
      " 'logreg' 'logreg_proba']\n"
     ]
    }
   ],
   "source": [
    "meta_data_train = stacking_data_train.drop('fold_index',1)\n",
    "meta_data_test = stacking_data_test.copy()\n",
    "\n",
    "frames = [meta_data_train, meta_data_test]\n",
    "meta_data = pd.concat(frames)\n",
    "meta_data.head()"
   ]
  },
  {
   "cell_type": "code",
   "execution_count": 19,
   "metadata": {
    "collapsed": true
   },
   "outputs": [],
   "source": [
    "meta_data_predict = meta_data[['rdmf','logreg']]\n",
    "meta_data_proba = meta_data[['rdmf_proba','logreg_proba']]\n",
    "\n",
    "y = meta_data['home_win'].values\n",
    "X_predict = meta_data_predict.values\n",
    "X_proba = meta_data_proba.values"
   ]
  },
  {
   "cell_type": "code",
   "execution_count": 23,
   "metadata": {
    "collapsed": false
   },
   "outputs": [
    {
     "name": "stdout",
     "output_type": "stream",
     "text": [
      "proba\n",
      "0.604781807642\n",
      "\n",
      "predict\n",
      "0.638774096419\n"
     ]
    }
   ],
   "source": [
    "from sklearn.model_selection import cross_val_predict\n",
    "from sklearn.metrics import accuracy_score, confusion_matrix, roc_auc_score\n",
    "\n",
    "classifier = RandomForestClassifier(n_estimators=500)\n",
    "\n",
    "proba_from_predict = cross_val_predict(classifier, X_predict, y,\n",
    "                              method='predict_proba',\n",
    "                              cv=10, n_jobs=-1)\n",
    "\n",
    "proba_from_proba = cross_val_predict(classifier, X_proba, y,\n",
    "                              method='predict_proba',\n",
    "                              cv=10, n_jobs=-1)\n",
    "\n",
    "prob_from_pred = [p[1] for p in proba_from_predict]\n",
    "prob_from_prob = [p[1] for p in proba_from_proba]\n",
    "\n",
    "auc_proba = roc_auc_score(y, prob_from_prob)\n",
    "print('proba')\n",
    "print(auc_proba)\n",
    "\n",
    "print('')\n",
    "\n",
    "auc_predict = roc_auc_score(y, prob_from_pred)\n",
    "print('predict')\n",
    "print(auc_predict)"
   ]
  },
  {
   "cell_type": "code",
   "execution_count": 30,
   "metadata": {
    "collapsed": false
   },
   "outputs": [
    {
     "data": {
      "image/png": "[encoded data removed]",
      "text/plain": [
       "<matplotlib.figure.Figure at 0x10bfcac50>"
      ]
     },
     "metadata": {},
     "output_type": "display_data"
    }
   ],
   "source": [
    "fig,ax=plt.subplots(figsize=(10,10))\n",
    "meta_data_proba.plot.scatter('logreg_proba','rdmf_proba',ax=ax)\n",
    "plt.show()"
   ]
  },
  {
   "cell_type": "code",
   "execution_count": null,
   "metadata": {
    "collapsed": true
   },
   "outputs": [],
   "source": []
  }
 ],
 "metadata": {
  "kernelspec": {
   "display_name": "Python 2",
   "language": "python",
   "name": "python2"
  },
  "language_info": {
   "codemirror_mode": {
    "name": "ipython",
    "version": 2
   },
   "file_extension": ".py",
   "mimetype": "text/x-python",
   "name": "python",
   "nbconvert_exporter": "python",
   "pygments_lexer": "ipython2",
   "version": "2.7.10"
  }
 },
 "nbformat": 4,
 "nbformat_minor": 2
}
